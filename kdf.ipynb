{
 "cells": [
  {
   "cell_type": "markdown",
   "id": "65782d0b",
   "metadata": {},
   "source": [
    "#   _Key Derivation Functions_ - Funkcje wyprowadzania klucza\n",
    "## LBK, Kollbi (Insert names later)\n",
    "###   Podstawowe informacje\n",
    "1.  Funkcje KDF to algorytmy kryptograficzne zwracające sekret lub wiele sekretów z tajnej wartości.    \n",
    "        Np. Stworzenie klucza prywatnego (jeden sekret) z hasła użytkownika (tajna wartość).\n",
    "1.  Metody te powstały ponieważ hasła użytkowników są przewidywalne i krótkie (niska entropia). Pojawia się potrzeba stworzenia mocnego klucza.  \n",
    "Jednak nikt nie będzie pamiętał 64 znakowego hasła. Dlatego z pomocą przychodzi `key-stretching`.  \n",
    "Proces w którym tworzony jest bezpieczniejszy i (teoretycznie) odporniejszy na ataki siłowe nowy klucz.  \n",
    "`Key-streching` jest jedną z kluczowych technik zwiększania bezpieczeństwa klucza. Do key-streching'u można zaliczyć proste funkcje hashujące jak SHA, MD5 lub szyfry blokowe.\n",
    "1. Funkcje wyprowadzania klucza powinny być `deterministyczne`. Oznacza to, że dla tych samych danych wejściowych otrzymamy zawsze ten sam skrót niezależnie ile razy funkcja zostanie wywołana.\n",
    "1. Key Derivation Functions mogą być używane nie tylko do zapisywania haseł w postaci skrótów w bazie danych. Można je wykorzystywać między innymi do symetrycznego szyfrowania dysków lub kryptografi asymetrycznej.\n",
    "```\n",
    "                                               _             _  ______  _____                                   _       \n",
    "     _ __   __ _ ___ _____      _____  _ __ __| |           | |/ /  _ \\|  ___|           ___  ___  ___ _ __ ___| |_ ___  \n",
    "    | '_ \\ / _` / __/ __\\ \\ /\\ / / _ \\| '__/ _` |   =====\\  | ' /| | | | |_     ====\\   / __|/ _ \\/ __| '__/ _ \\ __/ __|\n",
    "    | |_) | (_| \\__ \\__ \\\\ V  V / (_) | | | (_| |   =====/  | . \\| |_| |  _|    ====/   \\__ \\  __/ (__| | |  __/ |_\\__ \\\n",
    "    | .__/ \\__,_|___/___/ \\_/\\_/ \\___/|_|  \\__,_|           |_|\\_\\____/|_|              |___/\\___|\\___|_|  \\___|\\__|___/\n",
    "    |_|                                                     \n",
    "```"
   ]
  },
  {
   "cell_type": "markdown",
   "id": "a7f12cd0",
   "metadata": {},
   "source": [
    "### Funkcje KDF to nie tylko funkcje haszujące! Jednak mają wspólną część\n",
    "1. Tak samo jak funkcje haszujące szyfrują dane deterministycznie. (To samo wejście - to samo wyjście)\n",
    "1. Na wyjściu jest zawsze ciąg o takiej samej długości. Bez znaczenia jak duże były dane wejściowe.\n",
    "1. Działa tylko w jedną stronę. Nie odzyska wejścia danych z wyjścia.\n"
   ]
  },
  {
   "cell_type": "markdown",
   "id": "9edd108b",
   "metadata": {},
   "source": [
    "### Zrozumienie od podstaw\n",
    "\n",
    "Najprostszą funkcję wyprowadzenia klucza można stworzyć wykorzystując dowolny algorytm haszujący. Dla przykładu użyty zostanie algorytm SHA256.  \n",
    "\n",
    "function(`password`, `sha256`) --> `key`"
   ]
  },
  {
   "cell_type": "code",
   "execution_count": 5,
   "id": "0e0e4ef5",
   "metadata": {},
   "outputs": [
    {
     "name": "stdout",
     "output_type": "stream",
     "text": [
      "5e884898da28047151d0e56f8dc6292773603d0d6aabbdd62a11ef721d1542d8\n"
     ]
    }
   ],
   "source": [
    "from hashlib import sha256\n",
    "\n",
    "hash = sha256(b\"password\")\n",
    "\n",
    "print(hash.digest().hex())"
   ]
  },
  {
   "cell_type": "markdown",
   "id": "f2e57d3d",
   "metadata": {},
   "source": [
    "Należy pamiętać, że powyższe rozwiązanie nie jest bezpieczne. Proste hasze są podatne na ataki słownikowe (np. tęczowe tablice (Rainbow table)). Jak zatem zwiększyć bezpieczeństwo?\n",
    "\n",
    "Pierwszym krokiem jest dodanie `soli` (ang. `salt`).  \n",
    "`Salt` jest wartością przechowywaną razem z uzyskanym kluczem. Używana, żeby utrudnić atak siłowy np. Rainbow Table. Sprawia, że nowy hasz jest bardziej skomplikowany i zmniejsza szansę pojawienia się go we wcześniej obliczonych tęczowych tablicach.\n",
    "\n",
    "function_with_salt(`salt`, `password`, `sha256`) --> `key`  "
   ]
  },
  {
   "cell_type": "code",
   "execution_count": 6,
   "id": "ef0460c8",
   "metadata": {},
   "outputs": [
    {
     "name": "stdout",
     "output_type": "stream",
     "text": [
      "13601bda4ea78e55a07b98866d2be6be0744e3866f13c00c811cab608a28f322\n"
     ]
    }
   ],
   "source": [
    "password = b\"password\"\n",
    "salt = b\"salt\"\n",
    "hash = sha256(salt+password)\n",
    "\n",
    "print(hash.digest().hex())"
   ]
  },
  {
   "cell_type": "markdown",
   "id": "83488fc4",
   "metadata": {},
   "source": [
    "Funkcję wyżej można opisać jako `HKDF` (`HMAC-based key derivation function`) - najprostsza funkcja wyprowadzania klucza.  \n",
    "Ciągle jest mniej bezpieczna niż aktualne KDF. Zaleca się korzystanie z PBKDF2, Bcrypt, Scrypt (ten projekt) oraz Argon2.\n",
    "\n"
   ]
  },
  {
   "cell_type": "markdown",
   "id": "ccf8bb66",
   "metadata": {},
   "source": [
    "### Przykład 1.0\n",
    "Wykorzystanie `HMAC` (Hash-based message authentication code) z solą, hasłem użytkownika oraz funkcją SHA256 do pozyskania klucza.\n",
    "1. Sprawdź co się stanie jak zmienisz sól. Może to być bardzo mała zmiana. Porównaj parę wyników dla tego samego hasła. \n",
    "1. Czy klucze z nową solą znacznie różnią się od głównego? Jeśli tak to dlaczego. ([Lawinowość](https://en.wikipedia.org/wiki/Avalanche_effect))\n",
    "1. Porównaj dwa klucze z tym samym hasłem w następujący sposób:  \n",
    "    1. Dla samej funkcji haszującej `sha256(b\"password\")`\n",
    "    1. Następnie stwórz dwie różne sole.\n",
    "    1. Porównaj klucze dołączając sól po haśle `sha256(b\"password+salt\")`"
   ]
  },
  {
   "cell_type": "code",
<<<<<<< HEAD
   "execution_count": 44,
   "id": "d7780a06",
=======
   "execution_count": 4,
   "id": "67c56c76",
>>>>>>> dev
   "metadata": {},
   "outputs": [
    {
     "name": "stdout",
     "output_type": "stream",
     "text": [
      "bff0e9482b9412e77f6b401c421957921782ff2f385521498ce59357fdc6da72\n"
     ]
    }
   ],
   "source": [
    "from hmac import HMAC\n",
    "from hashlib import sha256\n",
    "\n",
    "salt = b'NaCl'\n",
    "password = b'CryptoIsFun'\n",
    "\n",
    "key = HMAC(salt, password, digestmod=sha256)\n",
    "\n",
    "print(key.digest().hex())  # Desired output: `bff0e9482b9412e77f6b401c421957921782ff2f385521498ce59357fdc6da72`"
   ]
  },
  {
   "cell_type": "markdown",
   "id": "89ffa741",
   "metadata": {},
   "source": [
    "### Zasosowanie `soli`\n",
    "Wielokrotne użycie soli dla tego samego hasła umożliwia pozyskanie wielu innych kluczy. Jest to często stosowane rozwiązanie.  \n",
    "Dla przykładu: można posiadać w bazie dwóch użytkowników z takim samym hasłem. Zwykłe zahaszowanie hasła w obu przypadkach zwróci to samo.  \n",
    "Jednak wygenerowanie dla każdego z nich unikalnej wartości (`salt`) i dołączenie do hasła, sprawia że otrzymane hasze są diametralnie różne. ([Lawinowość](https://en.wikipedia.org/wiki/Avalanche_effect))  \n",
    "KDF pomimo znajomości klucza z `salt1` nie jest wstanie znaleźć klucza z `salt2`."
   ]
  },
  {
   "cell_type": "markdown",
   "id": "dc2b4fea",
   "metadata": {},
   "source": [
    "### Po podstawach\n",
    "\n",
    "Wiedząc co rozróżnia funkcje haszujące od KDF oraz czym jest sól, zwrócona zostanie uwaga na to, co powinna zapewniać dobra funkcja wyprowadzania klucza.  \n",
    "\n",
    "1. Memory Hardness - cecha funkcji zapewniająca, że wymaga dużej ilości pamięci do obliczeń lub wymaga znacznie większego nakładu czasowego, tak by maszyny wykonujące obliczenia równoległe nie były znacząco bardziej efektywne w obliczeniach od standardowych procesorów CPU.  \n",
    "Algorytm określa się \"memory-hard\" gdy potrzeba wysokiej ilości pamięci do pojedynczego wykonania. \n",
    "\n",
    "1. Funkcja KDF, która ma być wysoce odporna na ataki siłowe lub słownikowe, powinna maksymalnie spowolnić możliwość obliczeń równoległych. Jednocześnie wykonując relatywnie szybkie obliczenie klucza bądź skrótu.\n",
    "\n",
    "1. Żeby \"opóźnić\" generację kluczy można zwiększyć złożoność obliczeniową, złożoność pamięciową lub oba jednocześnie.\n",
    "\n",
    "Więcej informacji: `Funkcje wyprowadzania klucza (KDF) wykorzystujące odwzorowanie logistyczne - Grzegorz Frejek`"
   ]
  },
  {
   "cell_type": "markdown",
   "id": "75f4fdb8",
   "metadata": {},
   "source": [
    "# Wprowadzenie `scrypt`\n",
    "\n",
    "`Scrypt` jest funkcją wyprowadzania klucza opartą na haśle. Implementacja opiera się na funkcjach, które zapewniają dodatkową ochronę (memory hardness).\n",
    "\n",
    "Scrypt posiada więcej parametrów niż stworzony przez nas wcześniej przykład. \n",
    "Parametry scrypt są następujące:\n",
    "1. `Passphrase`\n",
    "1. `Salt`\n",
    "1. `Block size`\n",
    "1. `CPU/Memory cost` (>1; potęga 2; < 2^(128 * r / 8))\n",
    "1. `Parallelization parametr` (>0; <= ((2^32-1) * 32) / (128 * r))\n",
    "1. `Key length` (długość w oktetach; >0; <= (2^32 - 1) * 32)\n",
    "\n",
    "Najpierw należy zaznajomić się z poszczególnymi funkcjami algorytmu. A potem działanie algorytmu można przedstawić w 3 krokach."
   ]
  },
  {
   "cell_type": "markdown",
   "id": "4d5f50fa",
   "metadata": {},
   "source": [
    "### Salsa20/8 - wariant z [Salsa20](https://en.wikipedia.org/wiki/Salsa20)\n",
    "\n",
    "Salsa20/8 nie może być uznana za funkcję haszującą ponieważ nie jest odporna na kolizje.\n",
    "`Salsa20/8` oraz `Salsa20/12` są wariantami z `Salsa20`. Nie zostały stworzone, żeby wyprzec oryginalną implementację. Wręcz przeciwnie. Mają za zadanie dopełniać i działać lepiej.  \n",
    "\n",
    "Algorytm wykonuje operacje `XOR` na ciągach znaków w określonej liczbie rund. Salsa20 wykonuje 20 rund. Salsa20/8 i Salsa20/12 odpowiednio po 8 i 12 rund.\n",
    "\n",
    "<!-- Można wstawić jakiś ładny opis. Troszkę bardziej rozbudowany. Co to robi czy coś. Chociaż kod mówi sam za siebie. -->\n",
    "Zmodyfikowany algorytm w języku C znajduje się niżej."
   ]
  },
  {
   "cell_type": "markdown",
   "id": "67114a74",
   "metadata": {},
   "source": [
    "```c\n",
    " #define R(a,b) (((a) << (b)) | ((a) >> (32 - (b))))\n",
    "   void salsa20_word_specification(uint32 out[16],uint32 const in[16])\n",
    "   {\n",
    "     int i;\n",
    "     uint32 x[16];\n",
    "     for (i = 0;i < 16;++i) x[i] = in[i];\n",
    "     for (i = 8;i > 0;i -= 2) {\n",
    "       x[ 4] ^= R(x[ 0]+x[12], 7);  x[ 8] ^= R(x[ 4]+x[ 0], 9);\n",
    "       x[12] ^= R(x[ 8]+x[ 4],13);  x[ 0] ^= R(x[12]+x[ 8],18);\n",
    "       x[ 9] ^= R(x[ 5]+x[ 1], 7);  x[13] ^= R(x[ 9]+x[ 5], 9);\n",
    "       x[ 1] ^= R(x[13]+x[ 9],13);  x[ 5] ^= R(x[ 1]+x[13],18);\n",
    "       x[14] ^= R(x[10]+x[ 6], 7);  x[ 2] ^= R(x[14]+x[10], 9);\n",
    "       x[ 6] ^= R(x[ 2]+x[14],13);  x[10] ^= R(x[ 6]+x[ 2],18);\n",
    "       x[ 3] ^= R(x[15]+x[11], 7);  x[ 7] ^= R(x[ 3]+x[15], 9);\n",
    "       x[11] ^= R(x[ 7]+x[ 3],13);  x[15] ^= R(x[11]+x[ 7],18);\n",
    "       x[ 1] ^= R(x[ 0]+x[ 3], 7);  x[ 2] ^= R(x[ 1]+x[ 0], 9);\n",
    "       x[ 3] ^= R(x[ 2]+x[ 1],13);  x[ 0] ^= R(x[ 3]+x[ 2],18);\n",
    "       x[ 6] ^= R(x[ 5]+x[ 4], 7);  x[ 7] ^= R(x[ 6]+x[ 5], 9);\n",
    "       x[ 4] ^= R(x[ 7]+x[ 6],13);  x[ 5] ^= R(x[ 4]+x[ 7],18);\n",
    "       x[11] ^= R(x[10]+x[ 9], 7);  x[ 8] ^= R(x[11]+x[10], 9);\n",
    "       x[ 9] ^= R(x[ 8]+x[11],13);  x[10] ^= R(x[ 9]+x[ 8],18);\n",
    "       x[12] ^= R(x[15]+x[14], 7);  x[13] ^= R(x[12]+x[15], 9);\n",
    "       x[14] ^= R(x[13]+x[12],13);  x[15] ^= R(x[14]+x[13],18);\n",
    "     }\n",
    "     for (i = 0;i < 16;++i) out[i] = x[i] + in[i];\n",
    "   }\n",
    "```"
   ]
  },
  {
   "cell_type": "code",
   "execution_count": null,
   "id": "e059ef5d",
   "metadata": {},
   "outputs": [],
   "source": [
    "#TODO: Write code"
   ]
  },
  {
   "cell_type": "markdown",
   "id": "f9f0a5e9",
   "metadata": {},
   "source": [
    "W ostatniej lini zmieszana tablica jest dodawana słowo po słowie, żeby oryginalna tablica uzyskała wielkość 64-bitowych bloków.  Jest to bardzo ważne ponieważ dodanie do oryginalnej tablicy zmieszancyh wartości sprawia, że niemożliwe jest pozyskanie danych wejściowych. Dokładnie ta sama technika jest szeroko wykorzystywana w funkcjach haszujących."
   ]
  },
  {
   "cell_type": "markdown",
   "id": "bccf0868",
   "metadata": {},
   "source": [
    "### Algorytm scryptBlockMix\n",
    "Scrypt wykorzystuje `scryptBlockMix` jako funkcję haszującą.\n",
    "Reprezentacja algorytmu:\n",
    "<!-- Tłumaczenie? -->\n",
    "```bash\n",
    "Parameters:\n",
    "  r       Block size parameter.\n",
    "\n",
    "  Input:\n",
    "      B[0] || B[1] || ... || B[2 * r - 1]\n",
    "          Input octet string (of size 128 * r octets),\n",
    "          treated as 2 * r 64-octet blocks,\n",
    "          where each element in B is a 64-octet block.\n",
    "\n",
    "  Output:\n",
    "      B\\'[0] || B\\'[1] || ... || B\\'[2 * r - 1]\n",
    "        Output octet string.\n",
    "\n",
    "  Steps:\n",
    "\n",
    "    1. X = B[2 * r - 1]\n",
    "\n",
    "    2. for i = 0 to 2 * r - 1 do\n",
    "        T = X xor B[i]\n",
    "        X = Salsa (T)\n",
    "        Y[i] = X\n",
    "      end for\n",
    "\n",
    "    3. B\\' = (Y[0], Y[2], ..., Y[2 * r - 2], Y[1],\n",
    "              Y[3], ..., Y[2 * r - 1])\n",
    "```"
   ]
  },
  {
   "cell_type": "code",
   "execution_count": null,
   "id": "a3154ab2",
   "metadata": {},
   "outputs": [],
   "source": [
    "#TODO: Write code"
   ]
  },
  {
   "cell_type": "markdown",
   "id": "cac3a7fa",
   "metadata": {},
   "source": [
    "### Algorytm scryptROMix\n",
    "\n",
    "Algorytm sROMix wykorzystuje scryptBlockMix jako funkcję haszującą `H` oraz funkcję `Integerify` (dosłowne tłumaczenie - ???)\n",
    "<!-- Again tłumaczenie ? -->\n",
    "Reprezentacja algorytmu:  \n",
    "```bash\n",
    "Input:\n",
    "        r       Block size parameter.\n",
    "        B       Input octet vector of length 128 * r octets.\n",
    "        N       CPU/Memory cost parameter, must be larger than 1,\n",
    "                a power of 2, and less than 2^(128 * r / 8).\n",
    "\n",
    "Output:\n",
    "        B\\'      Output octet vector of length 128 * r octets.\n",
    "\n",
    "Steps:\n",
    "\n",
    "    1. X = B\n",
    "\n",
    "    2. for i = 0 to N - 1 do\n",
    "        V[i] = X\n",
    "        X = scryptBlockMix (X)\n",
    "    end for\n",
    "\n",
    "    3. for i = 0 to N - 1 do\n",
    "        j = Integerify (X) mod N\n",
    "                where Integerify (B[0] ... B[2 * r - 1]) is defined\n",
    "                as the result of interpreting B[2 * r - 1] as a\n",
    "                little-endian integer.\n",
    "        T = X xor V[j]\n",
    "        X = scryptBlockMix (T)\n",
    "    end for\n",
    "\n",
    "    4. B\\' = X\n",
    "```\n"
   ]
  },
  {
   "cell_type": "code",
   "execution_count": null,
   "id": "264a6c5c",
   "metadata": {},
   "outputs": [],
   "source": [
    "#TODO: Write code"
   ]
  },
  {
   "cell_type": "markdown",
   "id": "d9e7751c",
   "metadata": {},
   "source": [
    "\n",
    "### Scrypt\n",
    "Wracając do początku sekcji - algorytm można przedstawić w 3 krokach.\n",
    "Zapis `PBKDF2-HMAC-SHA-256` oznacza, że używamy algorytmu `PBKDF2` (Password-Based Key Derivation Function - Opartej na Haśle Funkcji Wyprowadzania Klucza) z `HMAC-SHA-256` jako `PRF` (Pseudorandom Function - Funkcja Pseudolosowa).\n",
    "\n",
    "\\#TODO Przetłumaczyć to jakoś mądrze. (To co wyżej też) (╭☞￢ Ĺ̯￢ )╭☞. (Albo zostawić ang. bo jest bardziej cool.) Z [tego](https://datatracker.ietf.org/doc/html/rfc7914#page-3) korzystałem. 6 punkt i idziesz w górę\n",
    "\n",
    "**Algorytm `scrypt`:**  \n",
    "\n",
    "Dane wejściowe:\n",
    "```\n",
    "        P       Passphrase, an octet string.\n",
    "        S       Salt, an octet string.\n",
    "        N       CPU/Memory cost parameter, must be larger than 1,\n",
    "                a power of 2, and less than 2^(128 * r / 8).\n",
    "        r       Block size parameter.\n",
    "        p       Parallelization parameter, a positive integer\n",
    "                less than or equal to ((2^32-1) * hLen) / MFLen\n",
    "                where hLen is 32 and MFlen is 128 * r.\n",
    "        dkLen   Intended output length in octets of the derived\n",
    "                key; a positive integer less than or equal to\n",
    "                (2^32 - 1) * hLen where hLen is 32.\n",
    "```\n",
    "\n",
    "Wyjście:\n",
    "```\n",
    "        DK      Derived key, of length dkLen octets.\n",
    "```\n",
    "\n",
    "Kroki:\n",
    "```\n",
    "1.  Initialize an array B consisting of p blocks of 128 * r octets\n",
    "        each:\n",
    "            B[0] || B[1] || ... || B[p - 1] = PBKDF2-HMAC-SHA256 (P, S, 1, p * 128 * r)\n",
    "\n",
    "2.  for i = 0 to p - 1 do\n",
    "        B[i] = scryptROMix (r, B[i], N)\n",
    "    end for\n",
    "\n",
    "3.  DK = PBKDF2-HMAC-SHA256 (P, B[0] || B[1] || ... || B[p - 1], 1, dkLen)\n",
    "```"
   ]
  },
  {
   "cell_type": "code",
   "execution_count": null,
   "id": "f2346140",
   "metadata": {},
   "outputs": [],
   "source": [
    "#TODO: Write code"
   ]
  },
  {
   "cell_type": "markdown",
   "id": "24d43171",
   "metadata": {},
   "source": [
    "#TODO Omówienie algorytmu? W którym miejscu wykazuje on własność Memmory Hardness."
   ]
  },
  {
   "cell_type": "markdown",
   "id": "120b1e4e",
   "metadata": {},
   "source": [
    "### Atak kanałem bocznym na `scrypt`\n",
    "\n",
    "`scrypt` jest wrażliwy na `Atak Czasowy na Cache`.\n",
    "\n",
    "`Atak czasowy na Cache` - ten typ ataku polega na pozyskiwaniu informacji przez badanie dostępności lub niedostępności danych w cache procesora.\n",
    "Jedną z metod przeprowadzenia tego ataku jest metoda Yuval'a Yarom'a `PRIME+PROBE` i jest najlepszą metodą, której można użyć przeciwko scryptowi.\n",
    "\n",
    "`PRIME+PROBE` (dosł. Zastaw i Sonduj) - Metoda Ataku polegająca na celowym wypchnięciu danych ofiary z cache procesora (Zastaw) przez uzyskanie dostępu do danych, które atakujący wie, że spowodują wypchnięcie z cache danych ofiary. Następnie, atakujący czeka pewien czas dając ofierze uzyskać dostęp do swoich danych, po czym próbuje uzyskać dostęp do swoich danych (Sonduj). Jeżeli czas dostępu jest relatywnie krótki, to oznacza, że ofiara nie uzyskiwała dostępu do swoich danych, bo dane atakującego wciaż są dostępne w cache. Jeżeli czas dostępu jest dłuższy, oznacza to, że ofiara użyskała dostęp do badanych danych, ponieważ dane atakującego zostały zepchnięte do pamięci niższego poziomu.\n",
    "Atak ten może zostać zastosowany w dowolnym momencie kiedy atakujący współdzieli z ofiarą jakiś poziom cache procesora. To może się zdarzyć kiedy atakujący i ofiara są procesami na tej samej maszynie, ale również kiedy atakujący i ofiara pracują na różnych maszynach wirtualnych, hostowanych na jednej maszynie fizycznej. Wystarczy współdzielenie przez nich cache procesora.\n",
    "\n",
    "---\n",
    "\n",
    "**Procedura ataku na `scrypt`:**  \n",
    "To co sprawia, że `Atak Czasowy na Cache` jest możliwy to podany poniżej kod funkcji `scryptROMix`:\n",
    "```\n",
    "    j = Integerify (X) mod N\n",
    "    T = X xor V[j]\n",
    "    X = scryptBlockMix (T)\n",
    "```\n",
    "\n",
    "\\# Najpierw ogarnę memory hardness, bo coś mi się tu nie kalkuluje XDDD"
   ]
  },
  {
   "cell_type": "markdown",
   "id": "3f70259a",
   "metadata": {},
   "source": [
    "# Czym jest `yescrypt`?\n",
    "\n",
    "`Yescrypt` jest funkcją wyprowadzania klucza opartą na haśle. Został stworzony na bazie `scrypt`.\n",
    "\n",
    "\\#TODO Opisać czym jest i inne rzeczy z [tego](https://www.openwall.com/yescrypt/) oraz innych artykułów."
   ]
  },
  {
   "cell_type": "markdown",
   "id": "9711527f",
   "metadata": {},
   "source": [
    "### Gdzie jest stosowany `yescrypt`. Czemu zawdzięcza swoją popularność.\n",
    "\n",
    "\\#TODO Gdzie i jak jest używany w życiu"
   ]
  },
  {
   "cell_type": "markdown",
   "id": "90bb010f",
   "metadata": {},
   "source": [
    "# `Balloon Hashing`\n",
    "\n",
    "\\#TODO Opisać"
   ]
  },
  {
   "cell_type": "markdown",
   "id": "7d0dcb57",
   "metadata": {},
   "source": [
    "# Stworzenie własnego KDF (`Johny Bravo`)\n",
    "\n",
    "\\#TODO Jeśli się podejmiemy to opiszemy tutaj krok po kroku jak stworzyć w miarę ok KDF do zastosowań domowych."
   ]
  }
 ],
 "metadata": {
  "interpreter": {
   "hash": "ac59ebe37160ed0dfa835113d9b8498d9f09ceb179beaac4002f036b9467c963"
  },
  "kernelspec": {
   "display_name": "Python 3.9.6 64-bit",
   "name": "python3"
  },
  "language_info": {
   "codemirror_mode": {
    "name": "ipython",
    "version": 3
   },
   "file_extension": ".py",
   "mimetype": "text/x-python",
   "name": "python",
   "nbconvert_exporter": "python",
   "pygments_lexer": "ipython3",
   "version": "3.9.6"
  }
 },
 "nbformat": 4,
 "nbformat_minor": 5
}
