{
 "cells": [
  {
   "cell_type": "markdown",
   "id": "65782d0b",
   "metadata": {},
   "source": [
    "#   _Key Derivation Function_ [LBK, Kollbi]\n",
    "###   Podstawowe informacje\n",
    "1.  Funkcje KDF to algorytmy kryptograficzne zwracające sekret lub wiele sekretów z tajnej wartości.    \n",
    "        Np. Stworzenie klucza prywatnego (jeden sekret) z hasła użytkownika (tajna wartość).\n",
    "1.  Metody te powstały ponieważ hasła zazwyczaj są proste i do przewidzenia. Pojawia się potrzeba stworzenia mocnego klucza.  \n",
    "Jednak nikt nie będzie pamiętał 64 znakowego hasła. Dlatego z pomocą przychodzi `key stretching`. Czyli proces w którym tworzony jest bezpieczniejszy i (teoretycznie) odporniejszy na ataki brute-force nowy klucz.  \n",
    "Dostając proste hasło zostają wykonane operacje, które dosłownie `rozciągają` podany ciąg znaków. Do key streching'u można zaliczyć proste funkcje hashujące jak SHA, MD5 lub szyfry blokowe.\n",
    "```\n",
    "                                               _             _  ______  _____                                   _       \n",
    "     _ __   __ _ ___ _____      _____  _ __ __| |           | |/ /  _ \\|  ___|           ___  ___  ___ _ __ ___| |_ ___  \n",
    "    | '_ \\ / _` / __/ __\\ \\ /\\ / / _ \\| '__/ _` |   =====\\  | ' /| | | | |_     ====\\   / __|/ _ \\/ __| '__/ _ \\ __/ __|\n",
    "    | |_) | (_| \\__ \\__ \\\\ V  V / (_) | | | (_| |   =====/  | . \\| |_| |  _|    ====/   \\__ \\  __/ (__| | |  __/ |_\\__ \\\n",
    "    | .__/ \\__,_|___/___/ \\_/\\_/ \\___/|_|  \\__,_|           |_|\\_\\____/|_|              |___/\\___|\\___|_|  \\___|\\__|___/\n",
    "    |_|                                                     \n",
    "```"
   ]
  },
  {
   "cell_type": "markdown",
   "id": "a7f12cd0",
   "metadata": {},
   "source": [
    "### Funkcje KDF to nie tylko funkcje hashujące! Jednak mają wspólną część.\n",
    "1. Tak samo jak funkcje hashujące szyfrują dane deterministycznie. (To samo wejście - to samo wyjście)\n",
    "1. Na wyjściu jest zawsze ciąg o takiej samej długości. Bez znaczenia jak duże były dane wejściowe.\n",
    "1. Działa tylko w jedną stronę. Nie odzyska wejścia danych z wyjścia.\n"
   ]
  },
  {
   "cell_type": "markdown",
   "id": "9edd108b",
   "metadata": {},
   "source": [
    "### Lepsze zrozumienie od podstaw\n",
    "Najprostszą funkcję KDF można zrobić wykorzystując np. algorytm SHA256 do hashowania hasła. Jednak jest to niebezpieczne. Proste hashe są podatne na ataki słownikowe (np. tęczowe tablice (Rainbow table))\n",
    "\n",
    "function_sha256(`password`) --> `key`\n",
    "\n",
    "Pierwszym krokiem w stronę KDF (i zabezpieczeniem) jest dodanie `soli` (ang. `salt`).  \n",
    "`Salt` jest losową wartością przechowywaną razem z uzyskanym kluczem. Używana, żeby pozyskać ten sam klucz z podanego hasła.\n",
    "\n",
    "function_sha256_with_salt(`salt`, `password`, `sha256`) --> `key`\n",
    "\n",
    "Funkcję wyżej można opisać jako `HKDF` (`HMAC-based key derivation function`). Ciągle jest mniej bezpieczna niż aktualniejsze KDF. Zaleca się korzystanie z PBKDF2, Bcrypt, Scrypt (ten projekt) oraz Argon2.\n"
   ]
  },
  {
   "cell_type": "code",
   "execution_count": 6,
   "id": "1dfc9019",
   "metadata": {},
   "outputs": [
    {
     "name": "stdout",
     "output_type": "stream",
     "text": [
      "a773d6dd2e141ddc22a578716a5da01e695286e03abf3b09abb3c48c296e1a70\n"
     ]
    }
   ],
   "source": [
    "from hmac import HMAC\n",
    "from hashlib import sha256\n",
    "\n",
    "salt = b'Crypto'\n",
    "password = b'IsFun'\n",
    "\n",
    "key = HMAC(salt, password, digestmod=sha256)\n",
    "\n",
    "print(key.digest().hex())"
   ]
  },
  {
   "cell_type": "code",
   "execution_count": null,
   "id": "b11d3747",
   "metadata": {},
   "outputs": [],
   "source": []
  }
 ],
 "metadata": {
  "kernelspec": {
   "display_name": "Python 3 (ipykernel)",
   "language": "python",
   "name": "python3"
  },
  "language_info": {
   "codemirror_mode": {
    "name": "ipython",
    "version": 3
   },
   "file_extension": ".py",
   "mimetype": "text/x-python",
   "name": "python",
   "nbconvert_exporter": "python",
   "pygments_lexer": "ipython3",
   "version": "3.9.6"
  }
 },
 "nbformat": 4,
 "nbformat_minor": 5
}
