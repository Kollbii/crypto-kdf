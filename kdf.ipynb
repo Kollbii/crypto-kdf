{
 "cells": [
  {
   "cell_type": "markdown",
   "id": "65782d0b",
   "metadata": {},
   "source": [
    "#   _Key Derivation Function_ \n",
    "## LBK, Kollbi (Insert names later)\n",
    "###   Podstawowe informacje\n",
    "1.  Funkcje KDF to algorytmy kryptograficzne zwracające sekret lub wiele sekretów z tajnej wartości.    \n",
    "        Np. Stworzenie klucza prywatnego (jeden sekret) z hasła użytkownika (tajna wartość).\n",
    "1.  Metody te powstały ponieważ hasła zazwyczaj są proste i do przewidzenia. Pojawia się potrzeba stworzenia mocnego klucza.  \n",
    "Jednak nikt nie będzie pamiętał 64 znakowego hasła. Dlatego z pomocą przychodzi `key stretching`. Czyli proces w którym tworzony jest bezpieczniejszy i (teoretycznie) odporniejszy na ataki brute-force nowy klucz.  \n",
    "Dostając proste hasło zostają wykonane operacje, które dosłownie `rozciągają` podany ciąg znaków. Do key streching'u można zaliczyć proste funkcje hashujące jak SHA, MD5 lub szyfry blokowe.\n",
    "```\n",
    "                                               _             _  ______  _____                                   _       \n",
    "     _ __   __ _ ___ _____      _____  _ __ __| |           | |/ /  _ \\|  ___|           ___  ___  ___ _ __ ___| |_ ___  \n",
    "    | '_ \\ / _` / __/ __\\ \\ /\\ / / _ \\| '__/ _` |   =====\\  | ' /| | | | |_     ====\\   / __|/ _ \\/ __| '__/ _ \\ __/ __|\n",
    "    | |_) | (_| \\__ \\__ \\\\ V  V / (_) | | | (_| |   =====/  | . \\| |_| |  _|    ====/   \\__ \\  __/ (__| | |  __/ |_\\__ \\\n",
    "    | .__/ \\__,_|___/___/ \\_/\\_/ \\___/|_|  \\__,_|           |_|\\_\\____/|_|              |___/\\___|\\___|_|  \\___|\\__|___/\n",
    "    |_|                                                     \n",
    "```"
   ]
  },
  {
   "cell_type": "markdown",
   "id": "a7f12cd0",
   "metadata": {},
   "source": [
    "### Funkcje KDF to nie tylko funkcje hashujące! Jednak mają wspólną część.\n",
    "1. Tak samo jak funkcje haszujące szyfrują dane deterministycznie. (To samo wejście - to samo wyjście)\n",
    "1. Na wyjściu jest zawsze ciąg o takiej samej długości. Bez znaczenia jak duże były dane wejściowe.\n",
    "1. Działa tylko w jedną stronę. Nie odzyska wejścia danych z wyjścia.\n"
   ]
  },
  {
   "cell_type": "markdown",
   "id": "9edd108b",
   "metadata": {},
   "source": [
    "### Lepsze zrozumienie od podstaw\n",
    "Najprostszą funkcję KDF można przedstawić wykorzystując np. algorytm SHA256. Jednak jest to niebezpieczne. Proste hasze są podatne na ataki słownikowe (np. tęczowe tablice (Rainbow table))\n",
    "\n",
    "function(`password`, `sha256`) --> `key`\n",
    "\n",
    "Pierwszym krokiem w stronę KDF (i zabezpieczeniem) jest dodanie `soli` (ang. `salt`).  \n",
    "`Salt` jest wartością przechowywaną razem z uzyskanym kluczem. Używana, żeby uniemożliwić atak brute-force.  \n",
    "W skrócie: `Dodanie soli == Odporność na Tęczowe Tablice`\n",
    "\n",
    "function_with_salt(`salt`, `password`, `sha256`) --> `key`\n",
    "\n",
    "Funkcję wyżej można opisać jako `HKDF` (`HMAC-based key derivation function`). Ciągle jest mniej bezpieczna niż aktualniejsze KDF. Zaleca się korzystanie z PBKDF2, Bcrypt, Scrypt (ten projekt) oraz Argon2.\n"
   ]
  },
  {
   "cell_type": "markdown",
   "id": "ccf8bb66",
   "metadata": {},
   "source": [
    "### Przykład 1.0\n",
    "Wykorzystanie `HMAC` (Hash-based message authentication code) z solą, hasłem użytkownika oraz funkcją SHA256 do pozyskania klucza.\n",
    "1. Sprawdź co się stanie jak zmienisz sól. Może to być bardzo mała zmiana. Porównaj parę wyników dla tego samego hasła. \n",
    "1. Czy klucze z nową solą znacznie różnią się od głównego? Jeśli tak to dlaczego. ([Lawinowość](https://en.wikipedia.org/wiki/Avalanche_effect))\n",
    "1. Porównaj dwa klucze z tym samym hasłem w następujący sposób:  \n",
    "    1. Dla samej funkcji haszującej `sha256(b\"password\")`\n",
    "    1. Następnie stwórz dwie różne sole.\n",
    "    1. Porównaj klucze dołączając sól po haśle `sha256(b\"password+salt\")`"
   ]
  },
  {
   "cell_type": "code",
   "execution_count": 44,
   "metadata": {},
   "outputs": [
    {
     "name": "stdout",
     "output_type": "stream",
     "text": [
      "a773d6dd2e141ddc22a578716a5da01e695286e03abf3b09abb3c48c296e1a70\n"
     ]
    }
   ],
   "source": [
    "from hmac import HMAC\n",
    "from hashlib import sha256\n",
    "\n",
    "salt = b'Crypto'\n",
    "password = b'IsFun'\n",
    "\n",
    "key = HMAC(salt, password, digestmod=sha256)\n",
    "\n",
    "print(key.digest().hex())  # Desired output: `a773d6dd2e141ddc22a578716a5da01e695286e03abf3b09abb3c48c296e1a70`"
   ]
  },
  {
   "cell_type": "markdown",
   "id": "89ffa741",
   "metadata": {},
   "source": [
    "### Zasosowanie `soli`\n",
    "Wielokrotne użycie soli dla tego samego hasła umożliwia pozyskanie wielu innych kluczy. Jest to często stosowane rozwiązanie.  \n",
    "Dla przykładu: można posiadać w bazie dwóch użytkowników z takim samym hasłem. Zwykłe zahaszowanie hasła w obu przypadkach zwróci to samo.  \n",
    "Jednak wygenerowanie dla każdego z nich unikalnej wartości (`salt`) i dołączenie do hasła, sprawia że otrzymane hasze są diametralnie różne. ([Lawinowość](https://en.wikipedia.org/wiki/Avalanche_effect))  \n",
    "KDF pomimo znajomości klucza z `salt1` nie jest wstanie znaleźć klucza z `salt2`."
   ]
  },
  {
   "cell_type": "markdown",
   "id": "dc2b4fea",
   "metadata": {},
   "source": [
    "### Po podstawach\n",
    "\n",
    "Wiedząc co rozróżnia funkcje haszujące, KDF oraz czym jest sól zwrócona zostanie uwaga na to co powinna zapewniać dobra funkcja KDF.\n",
    "\n",
    "1. Memory Hardness #TODO <--- Wydaje się super ważne ale nie miałem głowy, żeby już tego szukać...  "
   ]
  }
 ],
 "metadata": {
  "kernelspec": {
   "display_name": "Python 3",
   "language": "python",
   "name": "python3"
  },
  "language_info": {
   "codemirror_mode": {
    "name": "ipython",
    "version": 3
   },
   "file_extension": ".py",
   "mimetype": "text/x-python",
   "name": "python",
   "nbconvert_exporter": "python",
   "pygments_lexer": "ipython3",
   "version": "3.9.6"
  }
 },
 "nbformat": 4,
 "nbformat_minor": 5
}
