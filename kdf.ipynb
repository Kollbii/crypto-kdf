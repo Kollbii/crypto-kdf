{
 "cells": [
  {
   "cell_type": "markdown",
   "id": "65782d0b",
   "metadata": {},
   "source": [
    "#   _Key Derivation Functions_ - Funkcje wyprowadzania klucza\n",
    "## LBK, Kollbi (Insert names later)\n",
    "###   Podstawowe informacje\n",
    "1.  Funkcje KDF to algorytmy kryptograficzne zwracające sekret lub wiele sekretów z tajnej wartości.    \n",
    "        Np. Stworzenie klucza prywatnego (jeden sekret) z hasła użytkownika (tajna wartość).\n",
    "1.  Metody te powstały ponieważ hasła użytkowników są przewidywalne i krótkie (niska entropia). Pojawia się potrzeba stworzenia mocnego klucza.  \n",
    "Jednak nikt nie będzie pamiętał 64 znakowego hasła. Dlatego z pomocą przychodzi `key-stretching`.  \n",
    "Proces w którym tworzony jest bezpieczniejszy i (teoretycznie) odporniejszy na ataki siłowe nowy klucz.  \n",
    "`Key-streching` jest jedną z kluczowych technik zwiększania bezpieczeństwa klucza. Do key-streching'u można zaliczyć proste funkcje hashujące jak SHA, MD5 lub szyfry blokowe.\n",
    "1. Funkcje wyprowadzania klucza powinny być `deterministyczne`. Oznacza to, że dla tych samych danych wejściowych otrzymamy zawsze ten sam skrót niezależnie ile razy funkcja zostanie wywołana.\n",
    "1. Key Derivation Functions mogą być używane nie tylko do zapisywania haseł w postaci skrótów w bazie danych. Można je wykorzystywać między innymi do symetrycznego szyfrowania dysków lub kryptografi asymetrycznej.\n",
    "```\n",
    "                                               _             _  ______  _____                                   _       \n",
    "     _ __   __ _ ___ _____      _____  _ __ __| |           | |/ /  _ \\|  ___|           ___  ___  ___ _ __ ___| |_ ___  \n",
    "    | '_ \\ / _` / __/ __\\ \\ /\\ / / _ \\| '__/ _` |   =====\\  | ' /| | | | |_     ====\\   / __|/ _ \\/ __| '__/ _ \\ __/ __|\n",
    "    | |_) | (_| \\__ \\__ \\\\ V  V / (_) | | | (_| |   =====/  | . \\| |_| |  _|    ====/   \\__ \\  __/ (__| | |  __/ |_\\__ \\\n",
    "    | .__/ \\__,_|___/___/ \\_/\\_/ \\___/|_|  \\__,_|           |_|\\_\\____/|_|              |___/\\___|\\___|_|  \\___|\\__|___/\n",
    "    |_|                                                     \n",
    "```"
   ]
  },
  {
   "cell_type": "markdown",
   "id": "a7f12cd0",
   "metadata": {},
   "source": [
    "### Funkcje KDF to nie tylko funkcje haszujące! Jednak mają wspólną część\n",
    "1. Tak samo jak funkcje haszujące szyfrują dane deterministycznie. (To samo wejście - to samo wyjście)\n",
    "1. Na wyjściu jest zawsze ciąg o takiej samej długości. Bez znaczenia jak duże były dane wejściowe.\n",
    "1. Działa tylko w jedną stronę. Nie odzyska wejścia danych z wyjścia.\n"
   ]
  },
  {
   "cell_type": "markdown",
   "id": "9edd108b",
   "metadata": {},
   "source": [
    "### Zrozumienie od podstaw\n",
    "\n",
    "Najprostszą funkcję wyprowadzenia klucza można stworzyć wykorzystując dowolny algorytm haszujący. Dla przykładu użyty zostanie algorytm SHA256.  \n",
    "\n",
    "function(`password`, `sha256`) --> `key`"
   ]
  },
  {
   "cell_type": "code",
   "execution_count": 5,
   "id": "0e0e4ef5",
   "metadata": {},
   "outputs": [
    {
     "name": "stdout",
     "output_type": "stream",
     "text": [
      "5e884898da28047151d0e56f8dc6292773603d0d6aabbdd62a11ef721d1542d8\n"
     ]
    }
   ],
   "source": [
    "from hashlib import sha256\n",
    "\n",
    "hash = sha256(b\"password\")\n",
    "\n",
    "print(hash.digest().hex())"
   ]
  },
  {
   "cell_type": "markdown",
   "id": "f2e57d3d",
   "metadata": {},
   "source": [
    "Należy pamiętać, że powyższe rozwiązanie nie jest bezpieczne. Proste hasze są podatne na ataki słownikowe (np. tęczowe tablice (Rainbow table)). Jak zatem zwiększyć bezpieczeństwo?\n",
    "\n",
    "Pierwszym krokiem jest dodanie `soli` (ang. `salt`).  \n",
    "`Salt` jest wartością przechowywaną razem z uzyskanym kluczem. Używana, żeby utrudnić atak siłowy np. Rainbow Table. Sprawia, że nowy hasz jest bardziej skomplikowany i zmniejsza szansę pojawienia się go we wcześniej obliczonych tęczowych tablicach.\n",
    "\n",
    "function_with_salt(`salt`, `password`, `sha256`) --> `key`  "
   ]
  },
  {
   "cell_type": "code",
   "execution_count": 6,
   "id": "ef0460c8",
   "metadata": {},
   "outputs": [
    {
     "name": "stdout",
     "output_type": "stream",
     "text": [
      "13601bda4ea78e55a07b98866d2be6be0744e3866f13c00c811cab608a28f322\n"
     ]
    }
   ],
   "source": [
    "password = b\"password\"\n",
    "salt = b\"salt\"\n",
    "hash = sha256(salt+password)\n",
    "\n",
    "print(hash.digest().hex())"
   ]
  },
  {
   "cell_type": "markdown",
   "id": "83488fc4",
   "metadata": {},
   "source": [
    "Funkcję wyżej można opisać jako `HKDF` (`HMAC-based key derivation function`) - najprostsza funkcja wyprowadzania klucza.  \n",
    "Ciągle jest mniej bezpieczna niż aktualne KDF. Zaleca się korzystanie z PBKDF2, Bcrypt, Scrypt (ten projekt) oraz Argon2.\n",
    "\n"
   ]
  },
  {
   "cell_type": "markdown",
   "id": "ccf8bb66",
   "metadata": {},
   "source": [
    "### Przykład 1.0\n",
    "Wykorzystanie `HMAC` (Hash-based message authentication code) z solą, hasłem użytkownika oraz funkcją SHA256 do pozyskania klucza.\n",
    "1. Sprawdź co się stanie jak zmienisz sól. Może to być bardzo mała zmiana. Porównaj parę wyników dla tego samego hasła. \n",
    "1. Czy klucze z nową solą znacznie różnią się od głównego? Jeśli tak to dlaczego. ([Lawinowość](https://en.wikipedia.org/wiki/Avalanche_effect))\n",
    "1. Porównaj dwa klucze z tym samym hasłem w następujący sposób:  \n",
    "    1. Dla samej funkcji haszującej `sha256(b\"password\")`\n",
    "    1. Następnie stwórz dwie różne sole.\n",
    "    1. Porównaj klucze dołączając sól po haśle `sha256(b\"password+salt\")`"
   ]
  },
  {
   "cell_type": "code",
   "execution_count": 7,
   "id": "67c56c76",
   "metadata": {},
   "outputs": [
    {
     "name": "stdout",
     "output_type": "stream",
     "text": [
      "a773d6dd2e141ddc22a578716a5da01e695286e03abf3b09abb3c48c296e1a70\n"
     ]
    }
   ],
   "source": [
    "from hmac import HMAC\n",
    "from hashlib import sha256\n",
    "\n",
    "salt = b'Crypto'\n",
    "password = b'IsFun'\n",
    "\n",
    "key = HMAC(salt, password, digestmod=sha256)\n",
    "\n",
    "print(key.digest().hex())  # Desired output: `a773d6dd2e141ddc22a578716a5da01e695286e03abf3b09abb3c48c296e1a70`"
   ]
  },
  {
   "cell_type": "markdown",
   "id": "89ffa741",
   "metadata": {},
   "source": [
    "### Zasosowanie `soli`\n",
    "Wielokrotne użycie soli dla tego samego hasła umożliwia pozyskanie wielu innych kluczy. Jest to często stosowane rozwiązanie.  \n",
    "Dla przykładu: można posiadać w bazie dwóch użytkowników z takim samym hasłem. Zwykłe zahaszowanie hasła w obu przypadkach zwróci to samo.  \n",
    "Jednak wygenerowanie dla każdego z nich unikalnej wartości (`salt`) i dołączenie do hasła, sprawia że otrzymane hasze są diametralnie różne. ([Lawinowość](https://en.wikipedia.org/wiki/Avalanche_effect))  \n",
    "KDF pomimo znajomości klucza z `salt1` nie jest wstanie znaleźć klucza z `salt2`."
   ]
  },
  {
   "cell_type": "markdown",
   "id": "dc2b4fea",
   "metadata": {},
   "source": [
    "### Po podstawach\n",
    "\n",
    "Wiedząc co rozróżnia funkcje haszujące od KDF oraz czym jest sól, zwrócona zostanie uwaga na to, co powinna zapewniać dobra funkcja wyprowadzania klucza.  \n",
    "\n",
    "1. Memory Hardness - cecha funkcji zapewniająca, że wymaga dużej ilości pamięci do obliczeń lub wymaga znacznie większego nakładu czasowego, tak by maszyny wykonujące obliczenia równoległe nie były znacząco bardziej efektywne w obliczeniach od standardowych procesorów CPU.  \n",
    "Algorytm określa się \"memory-hard\" gdy potrzeba wysokiej ilości pamięci do pojedynczego wykonania. \n",
    "\n",
    "1. Funkcja KDF, która ma być wysoce odporna na ataki siłowe lub słownikowe, powinna maksymalnie spowolnić możliwość obliczeń równoległych. Jednocześnie wykonując relatywnie szybkie obliczenie klucza bądź skrótu.\n",
    "\n",
    "1. Żeby \"opóźnić\" generację kluczy można zwiększyć złożoność obliczeniową, złożoność pamięciową lub oba jednocześnie.\n",
    "\n",
    "Więcej informacji: `Funkcje wyprowadzania klucza (KDF) wykorzystujące odwzorowanie logistyczne - Grzegorz Frejek`"
   ]
  },
  {
   "cell_type": "markdown",
   "id": "59eb1457",
   "metadata": {},
   "source": []
  }
 ],
 "metadata": {
  "kernelspec": {
   "display_name": "Python 3",
   "language": "python",
   "name": "python3"
  },
  "language_info": {
   "codemirror_mode": {
    "name": "ipython",
    "version": 3
   },
   "file_extension": ".py",
   "mimetype": "text/x-python",
   "name": "python",
   "nbconvert_exporter": "python",
   "pygments_lexer": "ipython3",
   "version": "3.9.6"
  }
 },
 "nbformat": 4,
 "nbformat_minor": 5
}
