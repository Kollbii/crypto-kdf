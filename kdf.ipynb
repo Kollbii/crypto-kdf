{
 "cells": [
  {
   "cell_type": "markdown",
   "id": "65782d0b",
   "metadata": {},
   "source": [
    "#   _Key Derivation Functions_ - Funkcje wyprowadzania klucza\n",
    "## Jakub Dyrcz, Łukasz Kollbek\n",
    "###   Podstawowe informacje\n",
    "1.  Funkcje KDF to algorytmy kryptograficzne zwracające sekret lub wiele sekretów z tajnej wartości.    \n",
    "        Np. Stworzenie klucza prywatnego (jeden sekret) z hasła użytkownika (tajna wartość).\n",
    "1.  Metody te powstały ponieważ hasła użytkowników są przewidywalne i krótkie (niska entropia). Pojawia się potrzeba stworzenia mocnego klucza.  \n",
    "Jednak nikt nie będzie pamiętał 64 znakowego hasła. Dlatego z pomocą przychodzi `key-stretching`.  \n",
    "Proces w którym tworzony jest bezpieczniejszy i (teoretycznie) odporniejszy na ataki siłowe nowy klucz.  \n",
    "`Key-streching` jest jedną z kluczowych technik zwiększania bezpieczeństwa klucza. Do key-streching'u można zaliczyć proste funkcje hashujące jak SHA-*, MD5 (nie używać!) lub szyfry blokowe.\n",
    "1. Funkcje wyprowadzania klucza powinny być `deterministyczne`. Oznacza to, że dla tych samych danych wejściowych otrzymamy zawsze ten sam skrót niezależnie ile razy funkcja zostanie wywołana.\n",
    "1. Key Derivation Functions mogą być używane nie tylko do zapisywania haseł w postaci skrótów w bazie danych. Można je wykorzystywać między innymi do symetrycznego szyfrowania dysków, kryptografi asymetrycznej oraz niektóre odnogi algorytmów znajdują swoje zastosowanie w technologiach `blockchain`.\n",
    "```\n",
    "                                           _          _  ______  _____                               _       \n",
    " _ __   __ _ ___ _____      _____  _ __ __| |        | |/ /  _ \\|  ___|       ___  ___  ___ _ __ ___| |_ ___  \n",
    "| '_ \\ / _` / __/ __\\ \\ /\\ / / _ \\| '__/ _` | =====\\ | ' /| | | | |_   ====\\ / __|/ _ \\/ __| '__/ _ \\ __/ __|\n",
    "| |_) | (_| \\__ \\__ \\\\ V  V / (_) | | | (_| | =====/ | . \\| |_| |  _|  ====/ \\__ \\  __/ (__| | |  __/ |_\\__ \\\n",
    "| .__/ \\__,_|___/___/ \\_/\\_/ \\___/|_|  \\__,_|        |_|\\_\\____/|_|          |___/\\___|\\___|_|  \\___|\\__|___/\n",
    "|_|                                                     \n",
    "```\n",
    "\n",
    "---"
   ]
  },
  {
   "cell_type": "markdown",
   "id": "a7f12cd0",
   "metadata": {},
   "source": [
    "### Funkcje KDF to nie tylko funkcje haszujące! Jednak mają wspólną część\n",
    "1. Tak samo jak funkcje haszujące szyfrują dane deterministycznie. (To samo wejście - to samo wyjście)\n",
    "1. Na wyjściu jest zawsze ciąg o takiej samej długości. Bez znaczenia jak długie lub krótkie były dane wejściowe.\n",
    "1. Działa tylko w jedną stronę. Nie możliwe jest odzyskanie wejścia na podstawie wyjścia.\n"
   ]
  },
  {
   "cell_type": "markdown",
   "id": "9edd108b",
   "metadata": {},
   "source": [
    "### Zrozumienie od podstaw\n",
    "\n",
    "Najprostszą funkcję wyprowadzenia klucza można stworzyć wykorzystując dowolny algorytm haszujący. Dla przykładu użyty zostanie algorytm SHA256.  \n",
    "\n",
    "function(`password`, `sha256`) --> `key`"
   ]
  },
  {
   "cell_type": "code",
   "execution_count": 9,
   "id": "0e0e4ef5",
   "metadata": {},
   "outputs": [
    {
     "name": "stdout",
     "output_type": "stream",
     "text": [
      "5e884898da28047151d0e56f8dc6292773603d0d6aabbdd62a11ef721d1542d8\n"
     ]
    }
   ],
   "source": [
    "from hashlib import sha256\n",
    "\n",
    "hash = sha256(b\"password\")\n",
    "\n",
    "print(hash.digest().hex())"
   ]
  },
  {
   "cell_type": "markdown",
   "id": "f2e57d3d",
   "metadata": {},
   "source": [
    "Należy pamiętać, że powyższe rozwiązanie nie jest bezpieczne. Proste hasze są podatne na ataki słownikowe (np. tęczowe tablice (Rainbow table)). Jak zatem zwiększyć bezpieczeństwo?\n",
    "\n",
    "Pierwszym krokiem jest dodanie `soli` (ang. `salt`).  \n",
    "`Salt` jest wartością przechowywaną razem z uzyskanym kluczem. Używana, żeby utrudnić atak siłowy (np. Rainbow Table). Sprawia, że nowy hasz jest bardziej skomplikowany i zmniejsza szansę pojawienia się go we wcześniej obliczonych tęczowych tablicach.\n",
    "\n",
    "function_with_salt(`salt`, `password`, `sha256`) --> `key`  "
   ]
  },
  {
   "cell_type": "code",
   "execution_count": 10,
   "id": "ef0460c8",
   "metadata": {},
   "outputs": [
    {
     "name": "stdout",
     "output_type": "stream",
     "text": [
      "13601bda4ea78e55a07b98866d2be6be0744e3866f13c00c811cab608a28f322\n"
     ]
    }
   ],
   "source": [
    "password = b\"password\"\n",
    "salt = b\"salt\"\n",
    "hash = sha256(salt+password)\n",
    "\n",
    "print(hash.digest().hex())"
   ]
  },
  {
   "cell_type": "markdown",
   "id": "83488fc4",
   "metadata": {},
   "source": [
    "Funkcję wyżej można opisać jako `HKDF` (`HMAC-based key derivation function`) - najprostsza funkcja wyprowadzania klucza.  \n",
    "Ciągle jest mniej bezpieczna niż aktualne KDF. Zaleca się korzystanie z PBKDF2, Bcrypt, Scrypt (ten projekt) oraz Argon2.\n",
    "\n"
   ]
  },
  {
   "cell_type": "markdown",
   "id": "ccf8bb66",
   "metadata": {},
   "source": [
    "### Przykład\n",
    "Wykorzystanie `HMAC` (Hash-based message authentication code) z solą, hasłem użytkownika oraz funkcją SHA256 do pozyskania klucza.\n",
    "1. Sprawdź co się stanie jak zmienisz sól. Może to być bardzo mała zmiana. Porównaj parę wyników dla tego samego hasła. \n",
    "1. Czy klucze z nową solą znacznie różnią się od głównego? Jeśli tak to dlaczego. ([Lawinowość](https://en.wikipedia.org/wiki/Avalanche_effect))\n",
    "1. Porównaj dwa klucze z tym samym hasłem w następujący sposób:  \n",
    "    1. Dla samej funkcji haszującej `sha256(b\"password\")`\n",
    "    1. Następnie stwórz dwie różne sole.\n",
    "    1. Porównaj klucze dołączając sól po haśle `sha256(b\"password+salt\")`"
   ]
  },
  {
   "cell_type": "code",
   "execution_count": 11,
   "id": "67c56c76",
   "metadata": {},
   "outputs": [
    {
     "name": "stdout",
     "output_type": "stream",
     "text": [
      "bff0e9482b9412e77f6b401c421957921782ff2f385521498ce59357fdc6da72\n"
     ]
    }
   ],
   "source": [
    "from hmac import HMAC\n",
    "from hashlib import sha256\n",
    "\n",
    "salt = b'NaCl'\n",
    "password = b'CryptoIsFun'\n",
    "\n",
    "key = HMAC(salt, password, digestmod=sha256)\n",
    "\n",
    "print(key.digest().hex())\n",
    "# Porządany wynik: `bff0e9482b9412e77f6b401c421957921782ff2f385521498ce59357fdc6da72`"
   ]
  },
  {
   "cell_type": "markdown",
   "id": "89ffa741",
   "metadata": {},
   "source": [
    "### Zasosowanie `soli`\n",
    "Wielokrotne użycie soli dla tego samego hasła umożliwia pozyskanie wielu innych kluczy. Jest to często stosowane rozwiązanie.  \n",
    "Dla przykładu: można posiadać w bazie dwóch użytkowników z takim samym hasłem. Zwykłe zahaszowanie hasła w obu przypadkach zwróci to samo.  \n",
    "Jednak wygenerowanie dla każdego z nich unikalnej wartości (`salt`) i dołączenie do hasła, sprawia że otrzymane hasze są diametralnie różne. ([Lawinowość](https://en.wikipedia.org/wiki/Avalanche_effect))  \n",
    "KDF pomimo znajomości klucza z `salt1` nie jest wstanie znaleźć klucza z `salt2`."
   ]
  },
  {
   "cell_type": "markdown",
   "id": "dc2b4fea",
   "metadata": {},
   "source": [
    "### Po podstawach\n",
    "\n",
    "Wiedząc co rozróżnia funkcje haszujące od KDF oraz czym jest sól, zwrócona zostanie uwaga na to, co powinna zapewniać dobra funkcja wyprowadzania klucza.  \n",
    "\n",
    "1. Memory Hardness - cecha funkcji zapewniająca, że wymaga dużej ilości pamięci do obliczeń lub wymaga znacznie większego nakładu czasowego, tak by maszyny wykonujące obliczenia równoległe nie były znacząco bardziej efektywne w obliczeniach od standardowych procesorów CPU.  \n",
    "Algorytm określa się \"memory-hard\" gdy potrzeba wysokiej ilości pamięci do pojedynczego wykonania. \n",
    "\n",
    "1. Funkcja KDF, która ma być wysoce odporna na ataki siłowe lub słownikowe, powinna maksymalnie spowolnić możliwość obliczeń równoległych. Jednocześnie wykonując relatywnie szybkie obliczenie klucza bądź skrótu.\n",
    "\n",
    "1. Żeby \"opóźnić\" generację kluczy można zwiększyć złożoność obliczeniową, złożoność pamięciową lub oba jednocześnie.\n",
    "\n",
    "Więcej informacji: `Funkcje wyprowadzania klucza (KDF) wykorzystujące odwzorowanie logistyczne - Grzegorz Frejek`\n",
    "\n",
    "---"
   ]
  },
  {
   "cell_type": "markdown",
   "id": "75f4fdb8",
   "metadata": {},
   "source": [
    "# Wprowadzenie do `scrypt`\n",
    "\n",
    "`Scrypt` jest funkcją wyprowadzania klucza opartą na haśle. Implementacja opiera się na funkcjach, które zapewniają dodatkową ochronę (memory hardness).\n",
    "\n",
    "Scrypt posiada więcej parametrów niż stworzony przez nas wcześniej przykład. \n",
    "Parametry scrypt są następujące:\n",
    "```bash\n",
    "    `P`      -   Passphrase\n",
    "    `S`      -   Salt\n",
    "    `N`      -   CPU/Memory cost (>1; potęga 2; < 2^(128 * r / 8))\n",
    "    `r`      -   Block size\n",
    "    `p`      -   Parallelization parametr (>0; <= ((2^32-1) * 32) / (128 * r)\n",
    "    `dkLen`  -   Desired key length (oczekiwana długość klucza w bajtach; >0; <= (2^32 - 1) * 32)\n",
    "```\n",
    "\n",
    "Najpierw należy zaznajomić się z poszczególnymi funkcjami algorytmu. A potem działanie algorytmu można przedstawić w 3 krokach."
   ]
  },
  {
   "cell_type": "markdown",
   "id": "4d5f50fa",
   "metadata": {},
   "source": [
    "### Salsa20/8 - wariant [Salsa20](https://en.wikipedia.org/wiki/Salsa20)\n",
    "Autor: Daniel J. Bernstein\n",
    "\n",
    "`Salsa20/8` oraz `Salsa20/12` są wariantami z `Salsa20`. Nie zostały stworzone, żeby wyprzec oryginalną implementację. Wręcz przeciwnie. Mają za zadanie dopełniać i działać lepiej.  \n",
    "Salsa20/8 nie może być uznana za funkcję haszującą ponieważ nie jest odporna na kolizje.\n",
    "\n",
    "Aktualnie nie jest znana skuteczna metoda kryptoanalizy pełnej 20-rundowej Salsy (na 2015 rok). Wykryto wersje ataku na wersje z mniejszą liczbą rund. Szybszą kuzynką Salsy20 jest `ChaCha20` - miesza lepiej bity ale nie została przebadana jeszcze tak dobrze jak Salsa20.\n",
    "\n",
    "Algorytm wykonuje operacje `XOR` na ciągach znaków w określonej liczbie rund. Salsa20 wykonuje 20 rund. Salsa20/8 i Salsa20/12 odpowiednio po 8 i 12 rund.\n",
    "\n",
    "<!-- Można wstawić jakiś ładny opis. Troszkę bardziej rozbudowany. Co to robi czy coś. Chociaż kod mówi sam za siebie. -->\n",
    "Implementacja Salsy20 w pythonie znajduje się poniżej.\n",
    "<!-- Ja to bym wywalił wszystko do pythona. Potencjalne funkcje są w pliku salsa20.py albo salsa20_raw.py -->"
   ]
  },
  {
   "cell_type": "markdown",
   "id": "cba3b389",
   "metadata": {},
   "source": [
    "Implementacja jest wzorowana na [link](https://github.com/Daeinar/salsa20).\n"
   ]
  },
  {
   "cell_type": "markdown",
   "id": "aca0daee",
   "metadata": {},
   "source": [
    "Najistotniejszym elementem jest funkcja Quarter-Round. Następuje w niej xorowanie odpowiednio najpierw czterech kolumn. Potem transponujemy całą tablicę i przystępujemy do xorowania czterech wierszy. \n",
    "\n",
    "UWAGA: Kolejność operacji w funkcji QR() ma znaczenie. Muszą one odbywać się sekwencyjnie po sobie."
   ]
  },
  {
   "cell_type": "code",
   "execution_count": 12,
   "id": "06dd61ab",
   "metadata": {},
   "outputs": [],
   "source": [
    "'''\n",
    "Funkcja Ćwierć-Rundy\n",
    "Przesunięcie cykliczne w lewo. Ważna kolejność!\n",
    "Operacja add-rotate-XOR\n",
    "'''\n",
    "def QR(a, b, c, d):\n",
    "    b = b ^ rot_left_32((a + d) & 0xffffffff, 7)\n",
    "    c = c ^ rot_left_32((b + a) & 0xffffffff, 9)\n",
    "    d = d ^ rot_left_32((c + b) & 0xffffffff, 13)\n",
    "    a = a ^ rot_left_32((d + c) & 0xffffffff, 18)\n",
    "\n",
    "'''\n",
    "Funkcja pomocnicza - przesunięcie cykliczne w lewo\n",
    "'''\n",
    "def rot_left_32(a, b):\n",
    "    return ((( a << b ) & 0xffffffff) | (a >> (32 - b)))\n",
    "\n",
    "'''\n",
    "Funkcja pomocnicza - transpozycja macierzy\n",
    "'''\n",
    "def transpose(state):\n",
    "    state =[state[0],state[4],state[8],state[12],\n",
    "            state[1],state[5],state[9],state[13],\n",
    "            state[2],state[6],state[10],state[14],\n",
    "            state[3],state[7],state[11],state[15]]\n",
    "    return state"
   ]
  },
  {
   "cell_type": "markdown",
   "id": "fe329126",
   "metadata": {},
   "source": [
    "Kilka funkcji pomocniczych"
   ]
  },
  {
   "cell_type": "code",
   "execution_count": 13,
   "id": "02441934",
   "metadata": {},
   "outputs": [],
   "source": [
    "'''\n",
    "Funkcja pomocnicza - XOR na macierzy 4x4\n",
    "'''\n",
    "def xor_block(b1, b2):\n",
    "    return [b1[i]^b2[i] for i in range(16)]\n",
    "\n",
    "\n",
    "'''\n",
    "Zwróć macierze 4x4 dla wiadomości odpowiedniej długości. (Bez obsługi paddingu!)\n",
    "'''\n",
    "def message_to_blocks(message):\n",
    "    message_blocks = []\n",
    "    for b in range(int(len(message)/64)):\n",
    "        message_blocks.append([littleendian(message[64*b + 4*i : 4*i + 4 + 64*b]) for i in range(16)])\n",
    "    return message_blocks"
   ]
  },
  {
   "cell_type": "markdown",
   "id": "6eed8ca9",
   "metadata": {},
   "source": [
    "\n",
    "Każda runda to wykonanie operacji QR() na kolumnach i wierszach jednocześnie wykonując odpowiednie przesunięcie."
   ]
  },
  {
   "cell_type": "code",
   "execution_count": 14,
   "id": "30f1ca8f",
   "metadata": {},
   "outputs": [],
   "source": [
    "'''\n",
    "Pełna runda to:\n",
    "4 Ćwierć-Rundy (QR) -> transpozycja -> 4 Ćwierć-Rundy (QR) -> transpozycja\n",
    "\n",
    "My dla czytelności implementujemy półrundy:\n",
    "4 Ćwierć-Rundy -> transpozycja\n",
    "Dlatego muszą zostać wykonane \"dwukrotnie\" na każde wykonanie\n",
    "'''\n",
    "def round(state):\n",
    "    QR(state[0],state[4],state[8], state[12])\n",
    "    QR(state[1],state[5],state[9], state[13])\n",
    "    QR(state[2],state[6],state[10], state[14])\n",
    "    QR(state[3],state[7],state[11], state[15])\n",
    "\n",
    "    new_state = transpose(state)\n",
    "    return new_state"
   ]
  },
  {
   "cell_type": "markdown",
   "id": "5d4229b4",
   "metadata": {},
   "source": [
    "\n",
    "Stan początkowy tworzy się według schematu. Jest to tablica 4x4.  \n",
    "\n",
    "`Key` - klucz  \n",
    "`Ctr.` - licznik  \n",
    "`Nounce` - number used once  \n",
    "`Const` - napis \"expand 32-byte k\" jako stałe  \n",
    "\n",
    "|<!-- -->|<!-- -->|<!-- -->|<!-- -->|\n",
    "|---|---|---|---|\n",
    "|\"expa\"|Key|Key|Key|\n",
    "|Key|\"nd 3\"|Nonce|Nonce|\n",
    "|Ctr.|Ctr.|\"2-by\"|Key|\n",
    "|Key|Key|Key|\"te k\"|\n",
    "\n"
   ]
  },
  {
   "cell_type": "code",
   "execution_count": 15,
   "id": "5bb52808",
   "metadata": {},
   "outputs": [],
   "source": [
    "''' \n",
    "key - musi być długości 16 lub 32 bajtów\n",
    "nuo - nonce (number used once) - unikalna liczba dla każdej wiadomości 2x4bytes\n",
    "msg - wiadomość\n",
    "con - stały ciąg znaków o wartości \"expand 32 byte k\"\n",
    "'''\n",
    "def salsa20(key, nuo, ctr):\n",
    "    # Zamienione bajty na liczby:\n",
    "    #     ['expa'    , 'nd 3'    , '2 by'    , 'te k']\n",
    "    con = [0x61707865, 0x3320646e, 0x79622d32, 0x6b206574]\n",
    "    key = [littleendian(key[4*i:4*i+4]) for i in range(8)]\n",
    "    nuo = [littleendian(nuo[4*i:4*i+4]) for i in range(2)]\n",
    "    ctr = [littleendian(ctr[4*i:4*i+4]) for i in range(2)]\n",
    "\n",
    "    # Stan pierwotny\n",
    "    init_state = [\n",
    "        con[0], key[0], key[1], key[2],\n",
    "        key[3], con[1], nuo[0], nuo[1],\n",
    "        ctr[0], ctr[1], con[2], key[4],\n",
    "        key[5], key[6], key[7], con[3]\n",
    "    ]\n",
    "    \n",
    "    # Ilość rund może zostać zmieniona, w Salsa20/8 odbywa się 8 rund\n",
    "    new_state = round(init_state) # Pierwsza runda\n",
    "    for _ in range(15): # pozostałe rundy  (nasz kod dla czytelności implementuje pół-rundy, stąd 15)\n",
    "        new_state = round(new_state)\n",
    "\n",
    "    # Na koniec dodajemy całą przekształconą tablicę 16 słów do oryginalnej\n",
    "    state = [(new_state[i] + init_state[i]) & 0xffffffff for i in range(16)]\n",
    "\n",
    "    # Zwracamy dodane tablice\n",
    "    return state\n",
    "\n",
    "\n",
    "'''\n",
    "Funkcja pomocnicza - Zmiana kolejności bajtów na Little Endian\n",
    "'''\n",
    "def littleendian(bytes):\n",
    "     # przykład: 0x4A3B2C1D ==> [1D, 2C, 3B, 4A]\n",
    "    return bytes[0] ^ (bytes[1] << 8) ^ (bytes[2] << 16) ^ (bytes[3] << 24)"
   ]
  },
  {
   "cell_type": "markdown",
   "id": "f9f0a5e9",
   "metadata": {},
   "source": [
    "Obecność stałej redukuje w pamięci obszar danych kontrolowanych przez atakującego. Niszczy potencjalne regularności wynikające z licznika, klucza i nounce. Przez co nie tworzy 'słabych' bloków.\n",
    "\n",
    "Dodatkowo użycie tylko operacji `add-rotate-xor` zapobiega potencjalnym atakom czasowym w rozwiązaniach software'owych.\n",
    "\n",
    "W ostatniej lini zmieszana tablica jest dodawana słowo po słowie, żeby oryginalna tablica uzyskała wielkość 64-bitowych bloków.  Jest to bardzo ważne ponieważ dodanie do oryginalnej tablicy zmieszancyh wartości sprawia, że niemożliwe jest pozyskanie danych wejściowych. Dokładnie ta sama technika jest szeroko wykorzystywana w funkcjach haszujących.\n",
    "\n",
    "Sprawdźmy poprawność."
   ]
  },
  {
   "cell_type": "code",
   "execution_count": 16,
   "id": "6dd29b67",
   "metadata": {},
   "outputs": [
    {
     "name": "stdout",
     "output_type": "stream",
     "text": [
      "Testowanie poprawności implementacji:\n",
      "Test kodowania i dekodowania dla wiadomości długości 128 dla 2 bloków\n",
      "Oryginalne bloki wiadomości\n",
      "[1, 65793, 16843009, 65537, 65793, 65537, 16777473, 0, 65537, 1, 16777473, 65536, 16843009, 16843009, 16777217, 16777473]\n",
      "[257, 65793, 65793, 65792, 65793, 65537, 16777473, 16843010, 65537, 65537, 16777473, 65536, 16777217, 16843009, 16777217, 16777473]\n",
      "Zakodowane bloki\n",
      "[3269521611, 196867, 16974595, 65539, 33620737, 1715587293, 117834497, 135400462, 65539, 1, 4089731941, 65536, 16974081, 50529025, 16908291, 3611347945]\n",
      "[3269521867, 196867, 197379, 65794, 33620737, 1715587293, 117834497, 152243468, 65541, 65537, 4089731941, 65536, 16908289, 50529025, 16908291, 3611347945]\n",
      "Dekodowane bloki\n",
      "[1, 65793, 16843009, 65537, 65793, 65537, 16777473, 0, 65537, 1, 16777473, 65536, 16843009, 16843009, 16777217, 16777473]\n",
      "[257, 65793, 65793, 65792, 65793, 65537, 16777473, 16843010, 65537, 65537, 16777473, 65536, 16777217, 16843009, 16777217, 16777473]\n",
      "Są równe? True\n"
     ]
    }
   ],
   "source": [
    "print(\"Testowanie poprawności implementacji:\")\n",
    "\n",
    "# Wybierz klucz\n",
    "key=\"10101110100001010000001001111010\"\n",
    "key=[int(i) for i in key]\n",
    "assert len(key) == 32\n",
    "\n",
    "# Podaj nonce\n",
    "nonce = [0,1,3,3,7,6,9,4]\n",
    "assert len(nonce) == 8\n",
    "\n",
    "# Inicjowanie licznika\n",
    "counter = [0,0,0,0,0,0,0,0]\n",
    "assert len(counter) == 8\n",
    "\n",
    "# Wiadomość (128 bitowa)\n",
    "message = \"10001110111110101110101011010000101010001101001011111111100111011100111011100110111010101101211110101010110100101001111110011101\"\n",
    "assert len(message) == 128\n",
    "\n",
    "# Zamień wiadomość na bloki po 16 znaków.\n",
    "# Dla wiadomości długości 128 każda komórka po 4 powinna mieć 2 bloki.\n",
    "message = [int(i) for i in message]\n",
    "message_blocks = message_to_blocks(message)\n",
    "assert len(message_blocks) == 2\n",
    "\n",
    "print('Test kodowania i dekodowania dla wiadomości długości 128 dla 2 bloków')\n",
    "print('Oryginalne bloki wiadomości')\n",
    "print(message_blocks[0])\n",
    "print(message_blocks[1])\n",
    "cipher_msg = []\n",
    "for i in range(2):\n",
    "    counter[0] += 1\n",
    "    block = salsa20(key, nonce, counter)\n",
    "    cipher_msg.append(xor_block(block, message_blocks[i]))\n",
    "\n",
    "print('Zakodowane bloki')\n",
    "print(cipher_msg[0])        \n",
    "print(cipher_msg[1])      \n",
    "\n",
    "\n",
    "# Reset licznika przed dekodowaniem\n",
    "counter = [0]*8\n",
    "\n",
    "origin_msg = []\n",
    "for i in range(2):\n",
    "    counter[0] += 1\n",
    "    block = salsa20(key, nonce, counter)\n",
    "    origin_msg.append(xor_block(block, cipher_msg[i]))\n",
    "\n",
    "print('Dekodowane bloki')\n",
    "print(origin_msg[0])\n",
    "print(origin_msg[1])\n",
    "print(\"Są równe?\", origin_msg == message_blocks)"
   ]
  },
  {
   "cell_type": "markdown",
   "id": "bccf0868",
   "metadata": {},
   "source": [
    "### Algorytm `scryptBlockMix`\n",
    "Scrypt wykorzystuje `scryptBlockMix` jako funkcję haszującą.\n",
    "\n",
    "**Oficjalna reprezentacja algorytmu `scryptBlockMix`:**\n",
    "```bash\n",
    "  Parameters:\n",
    "    r       Block size parameter.\n",
    "\n",
    "  Input:\n",
    "      B[0] || B[1] || ... || B[2 * r - 1]\n",
    "          Input octet string (of size 128 * r octets),\n",
    "          treated as 2 * r 64-octet blocks,\n",
    "          where each element in B is a 64-octet block.\n",
    "\n",
    "  Output:\n",
    "      B[0] || B[1] || ... || B[2 * r - 1]\n",
    "        Output octet string.\n",
    "\n",
    "  Steps:\n",
    "\n",
    "    1. X = B[2 * r - 1]\n",
    "\n",
    "    2. for i = 0 to 2 * r - 1 do\n",
    "        T = X xor B[i]\n",
    "        X = Salsa (T)\n",
    "        Y[i] = X\n",
    "      end for\n",
    "\n",
    "    3. B = (Y[0], Y[2], ..., Y[2 * r - 2], Y[1],\n",
    "              Y[3], ..., Y[2 * r - 1])\n",
    "```"
   ]
  },
  {
   "cell_type": "markdown",
   "id": "0235c89f",
   "metadata": {},
   "source": [
    "Funkcja `scryptBlockMix` korzysta z parametru `r` podawanego przy wywołaniu `scrypt`\n",
    "\n",
    "Jako wejście do funkcji podajemy ciąg bajtów o rozmiarze 128 * `r`, który wewnętrznie jest traktowany jako 2 * `r` 64-bajtowych bloków. Każdy element w `B` jest 64-bajtowym blokiem.\n",
    "\n",
    "Kroki:\n",
    "1. Rozkładamy blok wejściowy na 2 * `r` 64-bajtowych bloków.\n",
    "1. Jako `X` wybieramy ostatni z nich\n",
    "1. Wykonujemy \"ilość bloków\" razy poniższe instrukcje:\n",
    "    1. Do zmiennej `T` zapisujemy wynik XOR(`X`, `aktualny_blok`)\n",
    "    1. Nadpisujemy `X` przez wynik Salsa20/8(`T`)\n",
    "    1. Dopisujemy wynikowe `X` do tablicy wyjściowej `Y`\n",
    "1. Po wykonaniu pętli zwracamy tablicę `Y`"
   ]
  },
  {
   "cell_type": "markdown",
   "id": "cac3a7fa",
   "metadata": {},
   "source": [
    "### Algorytm `scryptROMix`\n",
    "\n",
    "Algorytm `scryptROMix` jest identyczny jak algorytm [`ROMix`](https://www.tarsnap.com/scrypt/scrypt.pdf) z tą różnicą, że wykorzystuje `scryptBlockMix` jako funkcję haszującą `H`.\n",
    "\n",
    "To właśnie funkcja scryptROMix zapewnia własność `Memory Hardness` algorytmowi `scrypt`, ze względu na ogromną ilość pamięci jaką zajmuje w pamięci tablica `V`, która jest inna dla każdego wywołania.\n",
    "\n",
    "Funkcja Integerify() zamienia podaną liczbę całkowitą zapisaną Big Endian na zapis Little Endian.\n",
    "\n",
    "**Oficjalna reprezentacja algorytmu `scryptROMix`:**\n",
    "```bash\n",
    "Input:\n",
    "        r       Block size parameter.\n",
    "        B       Input octet vector of length 128 * r octets.\n",
    "        N       CPU/Memory cost parameter, must be larger than 1,\n",
    "                a power of 2, and less than 2^(128 * r / 8).\n",
    "\n",
    "Output:\n",
    "        B      Output octet vector of length 128 * r octets.\n",
    "\n",
    "Steps:\n",
    "\n",
    "    1. X = B\n",
    "\n",
    "    2. for i = 0 to N - 1 do\n",
    "        V[i] = X\n",
    "        X = scryptBlockMix (X)\n",
    "    end for\n",
    "\n",
    "    3. for i = 0 to N - 1 do\n",
    "        j = Integerify (X) mod N\n",
    "                where Integerify (B[0] ... B[2 * r - 1]) is defined\n",
    "                as the result of interpreting B[2 * r - 1] as a\n",
    "                little-endian integer.\n",
    "        T = X xor V[j]\n",
    "        X = scryptBlockMix (T)\n",
    "    end for\n",
    "\n",
    "    4. B = X\n",
    "```"
   ]
  },
  {
   "cell_type": "markdown",
   "id": "9f0ef8a4",
   "metadata": {},
   "source": [
    "Jako wejście do funkcji `scryptROMix` podajemy rozmiar bloku `r`, ciąg bajtów o rozmiarze 128 * `r` bajtów `B`, parametr kosztu Procesora/Pamięci `N`, który musi być większy od 1, potęgą 2 i mniejszy od 2^(128 * r / 8).\n",
    "\n",
    "Kroki:\n",
    "1. Jako wartość `X` przypisujemy oryginalny blok wejściowy `B`\n",
    "1. Wykonujemy `N` razy poniższe instrukcje:\n",
    "    1. Do tablicy `V` dopisujemy wartość `X`\n",
    "    1. Nadpisujemy `X` przez wynik scryptBlockMix(`X`)\n",
    "1. Po wykonaniu powyższej pętli wykonujemy `N` razy poniższe instrukcje:\n",
    "    1. Nadpisujemy `j` przez wynik Integerify(`X`) modulo `N`\n",
    "    1. Nadpisujemy `T` przez wynik XOR(`X`, `V[j]`)\n",
    "    1. Nadpisujemy `X` scryptBlockMix(`T`)\n",
    "1. Po wykonaniu powyższej pętli zwracamy ostatni `X`"
   ]
  },
  {
   "cell_type": "markdown",
   "id": "d9e7751c",
   "metadata": {},
   "source": [
    "\n",
    "### Algorytm `Scrypt`\n",
    "Wracając do początku sekcji - algorytm można przedstawić w 3 krokach.\n",
    "Zapis `PBKDF2-HMAC-SHA-256` oznacza, że używamy algorytmu `PBKDF2` (Password-Based Key Derivation Function - Opartej na haśle Funkcji Wyprowadzania Klucza) z `HMAC-SHA-256` jako `PRF` (Pseudorandom Function - Funkcja Pseudolosowa).\n",
    "\n",
    "**Oficjalna reprezentacja algorytmu `scrypt`:**\n",
    "\n",
    "```bash\n",
    "Input:\n",
    "        P       Passphrase, an octet string.\n",
    "        S       Salt, an octet string.\n",
    "        N       CPU/Memory cost parameter, must be larger than 1,\n",
    "                a power of 2, and less than 2^(128 * r / 8).\n",
    "        r       Block size parameter.\n",
    "        p       Parallelization parameter, a positive integer\n",
    "                less than or equal to ((2^32-1) * hLen) / MFLen\n",
    "                where hLen is 32 and MFlen is 128 * r.\n",
    "        dkLen   Intended output length in octets of the derived\n",
    "                key; a positive integer less than or equal to\n",
    "                (2^32 - 1) * hLen where hLen is 32.\n",
    "\n",
    "Output:\n",
    "        DK      Derived key, of length dkLen octets.\n",
    "\n",
    "Steps:\n",
    "    1.  Initialize an array B consisting of p blocks of 128 * r octets\n",
    "        each:\n",
    "        B[0] || B[1] || ... || B[p - 1] = PBKDF2-HMAC-SHA256 (P, S, 1, p * 128 * r)\n",
    "\n",
    "    2.  for i = 0 to p - 1 do\n",
    "        B[i] = scryptROMix (r, B[i], N)\n",
    "    end for\n",
    "\n",
    "    3.  DK = PBKDF2-HMAC-SHA256 (P, B[0] || B[1] || ... || B[p - 1], 1, dkLen)\n",
    "```"
   ]
  },
  {
   "cell_type": "markdown",
   "id": "24d43171",
   "metadata": {},
   "source": [
    "Jako wejście do funkcji `scrypt` podajemy hasło (ciąg bajtów) `P`, sól (ciąg bajtów) `S`, parametr kosztu Procesora/Pamięci `N`, który musi być większy od 1, potęgą 2 i mniejszy od 2^(128 * r / 8), rozmiar bloku `r`, parametr Zrównoleglenia `P`, który musi być większy od zera, całkowity i mniejszy lub równy ((2^32-1) * 32) / (128 * `r`), porządaną długość klucza `dkLen`, która musi być większa od zera, całkowita  i mniejsza lub równa (2^32 - 1) * 32.\n",
    "\n",
    "Kroki:\n",
    "1. Inicjujemy tablicę `B` składającą się z `p` bloków o długości 128 * `r` bajtów każdy.\n",
    "    - Wspomniane powyżej bloki otrzymujemy przez wywołanie funkcji PBKDF2-HMAC-SHA256(`P`, `S`, 1, `p` * 128 * `r`)\n",
    "1. Wykonujemy `p` razy poniższe instrukcje:\n",
    "    1. Do elementu `i`-tego tablicy `B` `B[i]`, gdzie `i` to indeks wykonywanej pętli przypisujemy wynik scryptROMix(`r`, `B[i]`, `N`)\n",
    "1. Po wykonaniu powyższej pętli zwracamy wynik PBKDF2-HMAC-SHA256(`P`, `B`, 1, `dkLen`)"
   ]
  },
  {
   "cell_type": "markdown",
   "id": "120b1e4e",
   "metadata": {},
   "source": [
    "### Atak kanałem bocznym na `scrypt`\n",
    "\n",
    "`scrypt` jest wrażliwy na `Atak Czasowy na Cache`.\n",
    "\n",
    "`Atak czasowy na Cache` - ten typ ataku polega na pozyskiwaniu informacji przez badanie dostępności lub niedostępności danych w cache procesora.\n",
    "\n",
    "Jedną z metod przeprowadzenia tego ataku jest metoda Yuval'a Yarom'a `PRIME+PROBE` i jest najlepszą metodą, której można użyć przeciwko scryptowi.\n",
    "\n",
    "`PRIME+PROBE` (dosł. Zastaw i Sonduj) - Metoda Ataku polegająca na celowym wypchnięciu danych ofiary z cache procesora (Zastaw) przez uzyskanie dostępu do danych, które atakujący wie, że spowodują wypchnięcie z cache danych ofiary. Następnie, atakujący czeka pewien czas dając ofierze uzyskać dostęp do swoich danych, po czym próbuje uzyskać dostęp do swoich danych (Sonduj). Jeżeli czas dostępu jest relatywnie krótki, to oznacza, że ofiara nie uzyskiwała dostępu do swoich danych, bo dane atakującego wciaż są dostępne w cache. Jeżeli czas dostępu jest dłuższy, oznacza to, że ofiara użyskała dostęp do badanych danych, ponieważ dane atakującego zostały zepchnięte do pamięci niższego poziomu.\n",
    "Atak ten może zostać zastosowany w dowolnym momencie kiedy atakujący współdzieli z ofiarą jakiś poziom cache procesora. To może się zdarzyć kiedy atakujący i ofiara są procesami na tej samej maszynie, ale również kiedy atakujący i ofiara pracują na różnych maszynach wirtualnych, hostowanych na jednej maszynie fizycznej. Wystarczy współdzielenie przez nich cache procesora.\n",
    "\n",
    "---\n",
    "\n",
    "**Procedura ataku na `scrypt`:**  \n",
    "To co sprawia, że `Atak Czasowy na Cache` jest możliwy to podany poniżej kod w funkcji `scryptROMix`:\n",
    "```bash\n",
    "    j = Integerify(X) mod N\n",
    "    T = X xor V[j]\n",
    "    X = scryptBlockMix(T)\n",
    "```\n",
    "\n",
    "Jak zostało wspomniane wcześniej, tablica `V` wykorzystywana wewnątrz scryptBlockMix nadaje algorytmowi `scrypt` własność `Memory Hardness`. `V` przechowuje wszystkie powtarzające się hasze `B` takiego, że `V[n]` to rezultat haszowania `B` `n` razy. W powyższych linijkach elementy `V` wykorzystywane są w liczeniu rezultatu `scrypt` przez interpretowanie unikalnych haszy pochodzących od hasła podanego przez użytkownika do funkcji `PBKDF2-HMAC-SHA256` jako liczby całkowite użyte do indeksowania tablicy `V` (zmienna `j`). Ponieważ dostęp do tych danych zależy od hasła, obserwacja dostępu do pamięci pozwoli na przewidzenie rezultatu `PBKDF2-HMAC-SHA256` w pierwszym kroku algorytmu `scrypt`.\n",
    "\n",
    "Zdobycie wystarczająco dużo informacji o haszu `PBKDF2-HMAC-SHA256` hasła ofiary pozwala atakującemu zredukować atak na `scrypt` do ataku na sam algorytm `PBKDF2-HMAC-SHA256`, w ten sposób całkowicie unikając mierzenia się z `Memory Hardness` algorytmu `scrypt`. Mówiąc precyzyjniej, w momencie kiedy atakujący zaobserwuje sygnaturę dostępu do pamięci `scrypt`, może zbudować słownik haszy `PBKDF2-HMAC-SHA256` i policzyć jakie są ich hasła i policzyć jakie będą ich sygnatury dostępu do pamięci i porównać je z sygnaturami haszy w słowniku. W ten sposób udaje się całkowicie ominąć `Memory Hardness` algorytmu `scrypt` przerzucając atak na algorytm `PBKDF2-HMAC-SHA256` i pozwalając atakującemu zastosować wszystkie skróty, żeby które uniemożliwić algorytm `scrypt` został zaprojektowany."
   ]
  },
  {
   "cell_type": "markdown",
   "id": "3f70259a",
   "metadata": {},
   "source": [
    "# Czym jest algorytm `yescrypt`?\n",
    "\n",
    "`Yescrypt` jest funkcją wyprowadzania klucza opartą na haśle. Został stworzony na bazie `scrypt`.  \n",
    "Yescrypt jest domyślną funkcją haszującą dla systemów Debian 11, Fedora 35+, Kali Linux 2021.1+ oraz Ubuntu 20.04+.\n",
    "\n",
    "Zdaje się on być najlepiej skalującym algorytmem do haszowania. Oferuje prawie optymalne bezpieczeństwo ataków bruteforce kosztem złożoności.  \n",
    "Warto mieć na uwadze, że w przypadku dużych implementacji będzie to stosunkowo mała część całkowitej autoryzacji. \n",
    "\n",
    "| Zalety | Wady |\n",
    "| --- | --- |\n",
    "| Lepsza ochrona przed atakami | Złożoność |\n",
    "| Oparte na zaakceptowanych przez NIST funkcjach haszujących (HMAC, PBKDF2, SHA-256)| Podatne na atak kanałem bocznym (Cache-timing)|\n",
    "| Czas działania można regulować w zależności od wykorzystania pamięci | Wspierany w mniejszej ilości technologi |\n",
    "\n",
    "Yescrypt nie wygrał w [PHC](https://en.wikipedia.org/wiki/Password_Hashing_Competition). Zwycięzcą w 2015 roku został `Argon2`. \n",
    "Mimo to yescrypt dostał specjalne wyróżnienie (razem z `Catena`, `Lyra2`, `Makwa`).\n",
    "\n",
    "Istnieje też `yespower`, który jest PoW (proof of work) zbudowanym na scrypcie. Zamiast wyprowadzać klucze i haszować hasła yespower jest przeznaczony do przetwarzania nagłówków bloków w `blockchain` (włączając wartość nounce).\n"
   ]
  },
  {
   "cell_type": "markdown",
   "id": "90bb010f",
   "metadata": {},
   "source": [
    "# Algorytm `Balloon Hashing`\n",
    "\n",
    "Kolejna odnoga funkcji KDF. Autorzy zapewniają, że:\n",
    "1. Algorytm wykazuje właściwości `memory-hardness`. \n",
    "1. Jest bazowany na podstawowych funkcjach (SHA-512 ...). Zatem może być używany w dowolnym standardzie.\n",
    "1. Odporny na ataki kanłem bocznym (side-channel attacks). Dostęp do pamięci jest niezależny od danych, które są haszowane.\n",
    "1. Łatwy w implementacji a złożoność obliczeniowa jest podobna do innych algorytmów tego sortu.\n"
   ]
  },
  {
   "cell_type": "markdown",
   "id": "f7929e98",
   "metadata": {},
   "source": [
    "# Podsumowanie\n",
    "\n",
    "|Własność|scrypt|yescrypt|baloon hashing|\n",
    "|---|---|---|---|\n",
    "|Memory-Hardness|Tak|Tak|Tak|\n",
    "|Bazowana na 'Standard Primitives' (np. SHA-512 itd.)|Tak|Tak|Tak|\n",
    "|Odporność na ataki Cache (kanałem bocznym)|Nie<sup>1</sup>|Nie|Tak|\n",
    "|Złożoność|Ω(n<sup>2</sup>ω)|Ω(n<sup>2</sup>ω)|Ω(n<sup>2</sup>/log n)<sup>2</sup>|\n",
    "\n",
    "\n",
    "<sup>1</sup>Zostało udowodnione, że funkcja ROMix jest sekwencyjnie odporna dla wyroczni losowej. Bezpieczeństwo scryptu opiera się na założeniu, że BlockMix() wykorzystujący Salsa20/8 nie wykazuje, żadnych \"skrótów\" które pozwoliłyby iterować łatwiej niż w wyroczni losowej.  \n",
    "<sup>2</sup>W ustawieniu równoległym Ω(n<sup>2</sup>). Dla rundy (odpowiednie warunki)  Ω(n<sup>5/3</sup>)<sup>2</sup>. Funkcja wykazująca własność memory-hard Ω(n<sup>2</sup>/log n).  \n",
    "\n",
    "\n",
    "### Wnioski\n",
    "1. Warto używać yescrypta gdy chcemy bronić się przed atakami równoległymi ale dostęp do pamięci będzie zależny od hasła. Jest to słabe podejście jeśli adwersach może mieć dostęp do takiej informacji.  \n",
    "1. Baloon Hashing jest przydatny w obronie przed atakami sekwencyjnymi. Jest dostęp do pamięci jest niezależny od hasła. Jest asymptotycznie słabszy przy dużych atakach równoległych.\n",
    "[Źródło](https://eprint.iacr.org/2016/027.pdf)"
   ]
  },
  {
   "cell_type": "markdown",
   "id": "0e18be33",
   "metadata": {},
   "source": [
    "### Bibliografia\n",
    "\n",
    "1. Funkcje wyprowadzania klucza (KDF) wykorzystujące odwzorowanie logistyczne - Grzegorz Frejek\n",
    "1. https://qvault.io/cryptography/key-derivation-functions/\n",
    "1. https://cryptobook.nakov.com/mac-and-key-derivation/hmac-and-key-derivation\n",
    "1. https://cryptography.io/en/latest/hazmat/primitives/key-derivation-functions/\n",
    "1. https://books.google.com/books?id=OAkhkLSxxxMC&pg=PA158\n",
    "1. http://cacr.uwaterloo.ca/hac/\n",
    "1. http://www.cs.ucdavis.edu/~rogaway/classes/227/spring05/book/main.pdf\n",
    "1. https://books.google.com/books?id=UuNKmgv70lMC&pg=PA455\n",
    "1. https://books.google.com/books?id=nErZY4vYHIoC&pg=PA321\n",
    "1. https://web.archive.org/web/20070605092733/http://netlab.cs.ucla.edu/wiki/files/shannon1949.pdf\n",
    "1. http://events.iaik.tugraz.at/RFIDSec08/Papers/Publication/04%20-%20ONeill%20-%20Low%20Cost%20SHA-1%20-%20Slides.pdf\n",
    "1. https://web.archive.org/web/20030322053727/http://cm.bell-labs.com/cm/cs/who/dmr/passwd.ps\n",
    "1. http://www.bsdcan.org/2009/schedule/events/147.en.html\n",
    "1. http://www.akkadia.org/drepper/SHA-crypt.txt\n",
    "1. https://docs.python.org/3/library/hmac.html\n",
    "1. https://www.apprendre-en-ligne.net/crypto/bibliotheque/feistel/index.html\n",
    "1. https://eprint.iacr.org/2011/565\n",
    "1. https://crypto.stanford.edu/cs359c/17sp/projects/MarkAnderson.pdf\n",
    "1. https://www.openwall.com/yescrypt/\n",
    "1. https://www.tarsnap.com/scrypt.html\n",
    "1. https://qvault.io/cryptography/very-basic-intro-to-the-scrypt-hash/\n",
    "1. https://courses.csail.mit.edu/6.857/2016/files/salsa20.py\n",
    "1. https://github.com/Daeinar/salsa20\n",
    "1. https://crypto.stanford.edu/balloon/\n",
    "1. https://nvlpubs.nist.gov/nistpubs/SpecialPublications/NIST.SP.800-63b.pdf\n",
    "1. http://www.tarsnap.com/scrypt/scrypt.pdf\n",
    "1. https://eprint.iacr.org/2016/027.pdf\n",
    "1. https://cr.yp.to/snuffle/spec.pdf\n",
    "1. https://datatracker.ietf.org/doc/html/rfc7914\n",
    "1. https://securitycurrent.com/key-management-a-fast-growing-space/"
   ]
  }
 ],
 "metadata": {
  "interpreter": {
   "hash": "ac59ebe37160ed0dfa835113d9b8498d9f09ceb179beaac4002f036b9467c963"
  },
  "kernelspec": {
   "display_name": "Python 3 (ipykernel)",
   "language": "python",
   "name": "python3"
  },
  "language_info": {
   "codemirror_mode": {
    "name": "ipython",
    "version": 3
   },
   "file_extension": ".py",
   "mimetype": "text/x-python",
   "name": "python",
   "nbconvert_exporter": "python",
   "pygments_lexer": "ipython3",
   "version": "3.10.1"
  }
 },
 "nbformat": 4,
 "nbformat_minor": 5
}
