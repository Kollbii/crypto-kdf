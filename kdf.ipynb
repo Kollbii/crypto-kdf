{
 "cells": [
  {
   "cell_type": "markdown",
   "id": "65782d0b",
   "metadata": {},
   "source": [
    "#   _Key Derivation Function_ [LBK, Kollbi]\n",
    "###   Podstawowe informacje\n",
    "1.  Algorytm kryptograficzny zwracający sekret lub wiele sekretów z tajnej wartości.    \n",
    "    Np. Stworzenie klucza prywatnego (jeden sekret) z hasła użytkownika (tajna wartość).\n",
    "\n",
    "```\n",
    "                                               _             _  ______  _____                                   _       \n",
    "     _ __   __ _ ___ _____      _____  _ __ __| |           | |/ /  _ \\|  ___|           ___  ___  ___ _ __ ___| |_ ___  \n",
    "    | '_ \\ / _` / __/ __\\ \\ /\\ / / _ \\| '__/ _` |   =====\\  | ' /| | | | |_     ====\\   / __|/ _ \\/ __| '__/ _ \\ __/ __|\n",
    "    | |_) | (_| \\__ \\__ \\\\ V  V / (_) | | | (_| |   =====/  | . \\| |_| |  _|    ====/   \\__ \\  __/ (__| | |  __/ |_\\__ \\\n",
    "    | .__/ \\__,_|___/___/ \\_/\\_/ \\___/|_|  \\__,_|           |_|\\_\\____/|_|              |___/\\___|\\___|_|  \\___|\\__|___/\n",
    "    |_|                                                     \n",
    "```"
   ]
  },
  {
   "cell_type": "markdown",
   "id": "a7f12cd0",
   "metadata": {},
   "source": [
    "1. Funkcje KDF to nie tylko funkcje hashujące! Jednak mają wspólną część.\n",
    "    1. Tak samo jak funkcje hashujące szyfrują dane deterministycznie. (To samo wejście - to samo wyjście)\n",
    "    1. Na wyjściu jest zawsze ciąg o takiej samej długości. Bez znaczenia jak duże były dane wejściowe.\n",
    "    1. Działa tylko w jedną stronę. Nie odzyska wejścia danych z wyjścia.\n"
   ]
  },
  {
   "cell_type": "markdown",
   "id": "9edd108b",
   "metadata": {},
   "source": []
  }
 ],
 "metadata": {
  "kernelspec": {
   "display_name": "Python 3",
   "language": "python",
   "name": "python3"
  },
  "language_info": {
   "codemirror_mode": {
    "name": "ipython",
    "version": 3
   },
   "file_extension": ".py",
   "mimetype": "text/x-python",
   "name": "python",
   "nbconvert_exporter": "python",
   "pygments_lexer": "ipython3",
   "version": "3.9.6"
  }
 },
 "nbformat": 4,
 "nbformat_minor": 5
}
