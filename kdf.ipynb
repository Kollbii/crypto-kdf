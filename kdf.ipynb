{
 "cells": [
  {
   "cell_type": "markdown",
   "id": "65782d0b",
   "metadata": {},
   "source": [
    "#   _Key Derivation Functions_ - Funkcje wyprowadzania klucza\n",
    "## LBK, Kollbi (Insert names later)\n",
    "###   Podstawowe informacje\n",
    "1.  Funkcje KDF to algorytmy kryptograficzne zwracające sekret lub wiele sekretów z tajnej wartości.    \n",
    "        Np. Stworzenie klucza prywatnego (jeden sekret) z hasła użytkownika (tajna wartość).\n",
    "1.  Metody te powstały ponieważ hasła użytkowników są przewidywalne i krótkie (niska entropia). Pojawia się potrzeba stworzenia mocnego klucza.  \n",
    "Jednak nikt nie będzie pamiętał 64 znakowego hasła. Dlatego z pomocą przychodzi `key-stretching`.  \n",
    "Proces w którym tworzony jest bezpieczniejszy i (teoretycznie) odporniejszy na ataki siłowe nowy klucz.  \n",
    "`Key-streching` jest jedną z kluczowych technik zwiększania bezpieczeństwa klucza. Do key-streching'u można zaliczyć proste funkcje hashujące jak SHA-*, MD5 (nie używać!) lub szyfry blokowe.\n",
    "1. Funkcje wyprowadzania klucza powinny być `deterministyczne`. Oznacza to, że dla tych samych danych wejściowych otrzymamy zawsze ten sam skrót niezależnie ile razy funkcja zostanie wywołana.\n",
    "1. Key Derivation Functions mogą być używane nie tylko do zapisywania haseł w postaci skrótów w bazie danych. Można je wykorzystywać między innymi do symetrycznego szyfrowania dysków, kryptografi asymetrycznej oraz niektóre odnogi algorytmów znajdują swoje zastosowanie w technologiach `blockchain`.\n",
    "```\n",
    "                                           _          _  ______  _____                               _       \n",
    " _ __   __ _ ___ _____      _____  _ __ __| |        | |/ /  _ \\|  ___|       ___  ___  ___ _ __ ___| |_ ___  \n",
    "| '_ \\ / _` / __/ __\\ \\ /\\ / / _ \\| '__/ _` | =====\\ | ' /| | | | |_   ====\\ / __|/ _ \\/ __| '__/ _ \\ __/ __|\n",
    "| |_) | (_| \\__ \\__ \\\\ V  V / (_) | | | (_| | =====/ | . \\| |_| |  _|  ====/ \\__ \\  __/ (__| | |  __/ |_\\__ \\\n",
    "| .__/ \\__,_|___/___/ \\_/\\_/ \\___/|_|  \\__,_|        |_|\\_\\____/|_|          |___/\\___|\\___|_|  \\___|\\__|___/\n",
    "|_|                                                     \n",
    "```\n",
    "\n",
    "---"
   ]
  },
  {
   "cell_type": "markdown",
   "id": "a7f12cd0",
   "metadata": {},
   "source": [
    "### Funkcje KDF to nie tylko funkcje haszujące! Jednak mają wspólną część\n",
    "1. Tak samo jak funkcje haszujące szyfrują dane deterministycznie. (To samo wejście - to samo wyjście)\n",
    "1. Na wyjściu jest zawsze ciąg o takiej samej długości. Bez znaczenia jak duże lub krótkie były dane wejściowe.\n",
    "1. Działa tylko w jedną stronę. Nie odzyska wejścia danych z wyjścia.\n"
   ]
  },
  {
   "cell_type": "markdown",
   "id": "9edd108b",
   "metadata": {},
   "source": [
    "### Zrozumienie od podstaw\n",
    "\n",
    "Najprostszą funkcję wyprowadzenia klucza można stworzyć wykorzystując dowolny algorytm haszujący. Dla przykładu użyty zostanie algorytm SHA256.  \n",
    "\n",
    "function(`password`, `sha256`) --> `key`"
   ]
  },
  {
   "cell_type": "code",
   "execution_count": 1,
   "id": "0e0e4ef5",
   "metadata": {},
   "outputs": [
    {
     "name": "stdout",
     "output_type": "stream",
     "text": [
      "5e884898da28047151d0e56f8dc6292773603d0d6aabbdd62a11ef721d1542d8\n"
     ]
    }
   ],
   "source": [
    "from hashlib import sha256\n",
    "\n",
    "hash = sha256(b\"password\")\n",
    "\n",
    "print(hash.digest().hex())"
   ]
  },
  {
   "cell_type": "markdown",
   "id": "f2e57d3d",
   "metadata": {},
   "source": [
    "Należy pamiętać, że powyższe rozwiązanie nie jest bezpieczne. Proste hasze są podatne na ataki słownikowe (np. tęczowe tablice (Rainbow table)). Jak zatem zwiększyć bezpieczeństwo?\n",
    "\n",
    "Pierwszym krokiem jest dodanie `soli` (ang. `salt`).  \n",
    "`Salt` jest wartością przechowywaną razem z uzyskanym kluczem. Używana, żeby utrudnić atak siłowy (np. Rainbow Table). Sprawia, że nowy hasz jest bardziej skomplikowany i zmniejsza szansę pojawienia się go we wcześniej obliczonych tęczowych tablicach.\n",
    "\n",
    "function_with_salt(`salt`, `password`, `sha256`) --> `key`  "
   ]
  },
  {
   "cell_type": "code",
   "execution_count": 2,
   "id": "ef0460c8",
   "metadata": {},
   "outputs": [
    {
     "name": "stdout",
     "output_type": "stream",
     "text": [
      "13601bda4ea78e55a07b98866d2be6be0744e3866f13c00c811cab608a28f322\n"
     ]
    }
   ],
   "source": [
    "password = b\"password\"\n",
    "salt = b\"salt\"\n",
    "hash = sha256(salt+password)\n",
    "\n",
    "print(hash.digest().hex())"
   ]
  },
  {
   "cell_type": "markdown",
   "id": "83488fc4",
   "metadata": {},
   "source": [
    "Funkcję wyżej można opisać jako `HKDF` (`HMAC-based key derivation function`) - najprostsza funkcja wyprowadzania klucza.  \n",
    "Ciągle jest mniej bezpieczna niż aktualne KDF. Zaleca się korzystanie z PBKDF2, Bcrypt, Scrypt (ten projekt) oraz Argon2.\n",
    "\n"
   ]
  },
  {
   "cell_type": "markdown",
   "id": "ccf8bb66",
   "metadata": {},
   "source": [
    "### Przykład\n",
    "Wykorzystanie `HMAC` (Hash-based message authentication code) z solą, hasłem użytkownika oraz funkcją SHA256 do pozyskania klucza.\n",
    "1. Sprawdź co się stanie jak zmienisz sól. Może to być bardzo mała zmiana. Porównaj parę wyników dla tego samego hasła. \n",
    "1. Czy klucze z nową solą znacznie różnią się od głównego? Jeśli tak to dlaczego. ([Lawinowość](https://en.wikipedia.org/wiki/Avalanche_effect))\n",
    "1. Porównaj dwa klucze z tym samym hasłem w następujący sposób:  \n",
    "    1. Dla samej funkcji haszującej `sha256(b\"password\")`\n",
    "    1. Następnie stwórz dwie różne sole.\n",
    "    1. Porównaj klucze dołączając sól po haśle `sha256(b\"password+salt\")`"
   ]
  },
  {
   "cell_type": "code",
   "execution_count": 3,
   "id": "67c56c76",
   "metadata": {},
   "outputs": [
    {
     "name": "stdout",
     "output_type": "stream",
     "text": [
      "bff0e9482b9412e77f6b401c421957921782ff2f385521498ce59357fdc6da72\n"
     ]
    }
   ],
   "source": [
    "from hmac import HMAC\n",
    "from hashlib import sha256\n",
    "\n",
    "salt = b'NaCl'\n",
    "password = b'CryptoIsFun'\n",
    "\n",
    "key = HMAC(salt, password, digestmod=sha256)\n",
    "\n",
    "print(key.digest().hex())  # Desired output: `bff0e9482b9412e77f6b401c421957921782ff2f385521498ce59357fdc6da72`"
   ]
  },
  {
   "cell_type": "markdown",
   "id": "89ffa741",
   "metadata": {},
   "source": [
    "### Zasosowanie `soli`\n",
    "Wielokrotne użycie soli dla tego samego hasła umożliwia pozyskanie wielu innych kluczy. Jest to często stosowane rozwiązanie.  \n",
    "Dla przykładu: można posiadać w bazie dwóch użytkowników z takim samym hasłem. Zwykłe zahaszowanie hasła w obu przypadkach zwróci to samo.  \n",
    "Jednak wygenerowanie dla każdego z nich unikalnej wartości (`salt`) i dołączenie do hasła, sprawia że otrzymane hasze są diametralnie różne. ([Lawinowość](https://en.wikipedia.org/wiki/Avalanche_effect))  \n",
    "KDF pomimo znajomości klucza z `salt1` nie jest wstanie znaleźć klucza z `salt2`."
   ]
  },
  {
   "cell_type": "markdown",
   "id": "dc2b4fea",
   "metadata": {},
   "source": [
    "### Po podstawach\n",
    "\n",
    "Wiedząc co rozróżnia funkcje haszujące od KDF oraz czym jest sól, zwrócona zostanie uwaga na to, co powinna zapewniać dobra funkcja wyprowadzania klucza.  \n",
    "\n",
    "1. Memory Hardness - cecha funkcji zapewniająca, że wymaga dużej ilości pamięci do obliczeń lub wymaga znacznie większego nakładu czasowego, tak by maszyny wykonujące obliczenia równoległe nie były znacząco bardziej efektywne w obliczeniach od standardowych procesorów CPU.  \n",
    "Algorytm określa się \"memory-hard\" gdy potrzeba wysokiej ilości pamięci do pojedynczego wykonania. \n",
    "\n",
    "1. Funkcja KDF, która ma być wysoce odporna na ataki siłowe lub słownikowe, powinna maksymalnie spowolnić możliwość obliczeń równoległych. Jednocześnie wykonując relatywnie szybkie obliczenie klucza bądź skrótu.\n",
    "\n",
    "1. Żeby \"opóźnić\" generację kluczy można zwiększyć złożoność obliczeniową, złożoność pamięciową lub oba jednocześnie.\n",
    "\n",
    "Więcej informacji: `Funkcje wyprowadzania klucza (KDF) wykorzystujące odwzorowanie logistyczne - Grzegorz Frejek`\n",
    "\n",
    "---"
   ]
  },
  {
   "cell_type": "markdown",
   "id": "75f4fdb8",
   "metadata": {},
   "source": [
    "# Wprowadzenie `scrypt`\n",
    "\n",
    "`Scrypt` jest funkcją wyprowadzania klucza opartą na haśle. Implementacja opiera się na funkcjach, które zapewniają dodatkową ochronę (memory hardness).\n",
    "\n",
    "Scrypt posiada więcej parametrów niż stworzony przez nas wcześniej przykład. \n",
    "Parametry scrypt są następujące:\n",
    "1. `Passphrase`\n",
    "1. `Salt`\n",
    "1. `Block size`\n",
    "1. `CPU/Memory cost` (>1; potęga 2; < 2^(128 * r / 8))\n",
    "1. `Parallelization parametr` (>0; <= ((2^32-1) * 32) / (128 * r))\n",
    "1. `Key length` (długość w oktetach; >0; <= (2^32 - 1) * 32)\n",
    "\n",
    "Najpierw należy zaznajomić się z poszczególnymi funkcjami algorytmu. A potem działanie algorytmu można przedstawić w 3 krokach."
   ]
  },
  {
   "cell_type": "markdown",
   "id": "4d5f50fa",
   "metadata": {},
   "source": [
    "### Salsa20/8 - wariant z [Salsa20](https://en.wikipedia.org/wiki/Salsa20)\n",
    "Autor: Daniel J. Bernstein\n",
    "\n",
    "`Salsa20/8` oraz `Salsa20/12` są wariantami z `Salsa20`. Nie zostały stworzone, żeby wyprzec oryginalną implementację. Wręcz przeciwnie. Mają za zadanie dopełniać i działać lepiej.  \n",
    "Salsa20/8 nie może być uznana za funkcję haszującą ponieważ nie jest odporna na kolizje.\n",
    "\n",
    "Aktualnie nie jest znana skuteczna metoda kryptoanalizy pełnej 20-rundowej Salsy (na 2015 rok). Wykryto wersje ataku na wersje z mniejszą liczbą rund. Szybszą kuzynką Salsy20 jest `ChaCha20` - miesza lepiej bity ale nie została przebadana jeszcze tak dobrze jak Salsa20.\n",
    "\n",
    "Algorytm wykonuje operacje `XOR` na ciągach znaków w określonej liczbie rund. Salsa20 wykonuje 20 rund. Salsa20/8 i Salsa20/12 odpowiednio po 8 i 12 rund.\n",
    "\n",
    "<!-- Można wstawić jakiś ładny opis. Troszkę bardziej rozbudowany. Co to robi czy coś. Chociaż kod mówi sam za siebie. -->\n",
    "Implementacja Salsy20 w pythonie znajduje się poniżej.\n",
    "<!-- Ja to bym wywalił wszystko do pythona. Potencjalne funkcje są w pliku salsa20.py albo salsa20_raw.py -->"
   ]
  },
  {
   "cell_type": "markdown",
   "id": "cba3b389",
   "metadata": {},
   "source": [
    "Implementacja jest wzorowana na [link](https://github.com/Daeinar/salsa20).\n"
   ]
  },
  {
   "cell_type": "markdown",
   "id": "aca0daee",
   "metadata": {},
   "source": [
    "Najistotniejszym elementem jest funkcja Quarter-Round. Następuje w niej xorowanie odpowiednio najpierw czterech kolumn. Potem transponujemy całą tablicę i przystępujemy do xorowania czterech wierszy. \n",
    "\n",
    "UWAGA: Kolejność operacji w funkcji quarter_round() ma znaczenie. Muszą one odbywać się sekwencyjnie po sobie."
   ]
  },
  {
   "cell_type": "code",
   "execution_count": 4,
   "id": "06dd61ab",
   "metadata": {},
   "outputs": [
    {
     "name": "stdout",
     "output_type": "stream",
     "text": [
      "('00000000000000000000000000000000', '00000000000000000000000000000000', '00000000000000000000000000000000', '00000000000000000000000000000000')\n",
      "('11101000011101101101011100101011', '10010011011000011101111111010101', '11110001010001100000001001000100', '10010100100001010100000110100011')\n"
     ]
    }
   ],
   "source": [
    "# Pomocnicza funkcja - lewe przesunięcie cykliczne\n",
    "def circular_left_shift(var, shift):\n",
    "    return var[shift:] + var[:shift]\n",
    "\n",
    "# Pomocnicza funkcja - alternatywa rozłączna\n",
    "def XOR(bits1, bits2):\n",
    "    xor_res = \"\"\n",
    "    for bit1, bit2 in zip(bits1, bits2):\n",
    "        xor_res += '0' if bit1 == bit2 else '1'\n",
    "    return xor_res\n",
    "\n",
    "# Pomocnicza funkcja - zrównanie liczb przez wydłużenie krótrszej dokładając zera z przodu\n",
    "def make_equal_length(str1, str2):\n",
    "    len1 = len(str1) \n",
    "    len2 = len(str2)\n",
    "    if len1 < len2: \n",
    "        str1 = (len2 - len1) * '0' + str1 \n",
    "        len1 = len2\n",
    "    elif len2 < len1: \n",
    "        str2 = (len1 - len2) * '0' + str2 \n",
    "    len2 = len1\n",
    "    return len1, str1, str2\n",
    "\n",
    "# Pomocnicza funkcja - dodawanie bitowe zachowujące długość liczby\n",
    "def bin_add(bits1, bits2):\n",
    "    result = ''\n",
    "    length, first, second = make_equal_length(bits1, bits2) \n",
    "    carry = 0\n",
    "    for i in range(length - 1, -1, -1): \n",
    "        firstBit = int(first[i]) \n",
    "        secondBit = int(second[i])\n",
    "        sum = (firstBit ^ secondBit ^ carry) + 48\n",
    "        result = chr(sum) + result\n",
    "        carry = (firstBit & secondBit) | (secondBit & carry) | (firstBit & carry)\n",
    "    return result\n",
    "\n",
    "# Funkcja \"Ćwierć-Rundy\"\n",
    "# Ciąg zawartych w niej operacji jest celowo nieodwracalny\n",
    "def quarter_round(y0, y1, y2, y3):\n",
    "    z1 = XOR(y1, circular_left_shift(bin_add(y0, y3), 7))\n",
    "    z2 = XOR(y2, circular_left_shift(bin_add(z1, y0), 9))\n",
    "    z3 = XOR(y3, circular_left_shift(bin_add(z2, z1), 13))\n",
    "    z0 = XOR(y0, circular_left_shift(bin_add(z3, z2), 18))\n",
    "    return z0, z1, z2, z3\n",
    "\n",
    "# test 0\n",
    "ty0 = \"00000000000000000000000000000000\"\n",
    "ty1 = \"00000000000000000000000000000000\"\n",
    "ty2 = \"00000000000000000000000000000000\"\n",
    "ty3 = \"00000000000000000000000000000000\"\n",
    "print(quarter_round(ty0, ty1, ty2, ty3))\n",
    "# oczekiwany wynik:\n",
    "# ( '00000000000000000000000000000000', '00000000000000000000000000000000',\n",
    "#   '00000000000000000000000000000000', '00000000000000000000000000000000')\n",
    "\n",
    "# test 1\n",
    "ty0 = \"11100111111010001100000000000110\"\n",
    "ty1 = \"11000100111110010100000101111101\"\n",
    "ty2 = \"01100100011110011011010010110010\"\n",
    "ty3 = \"01101000110001100111000100110111\"\n",
    "print(quarter_round(ty0, ty1, ty2, ty3))\n",
    "# oczekiwany wynik:\n",
    "# ( '11101000011101101101011100101011', '10010011011000011101111111010101',\n",
    "#   '11110001010001100000001001000100', '10010100100001010100000110100011')"
   ]
  },
  {
   "cell_type": "markdown",
   "id": "fe329126",
   "metadata": {},
   "source": [
    "Kilka funkcji pomocniczych"
   ]
  },
  {
   "cell_type": "code",
   "execution_count": 5,
   "id": "02441934",
   "metadata": {},
   "outputs": [],
   "source": [
    "def xor_block(b1, b2):\n",
    "    return [b1[i]^b2[i] for i in range(16)]\n",
    "\n",
    "def message_to_blocks(message):\n",
    "    message_blocks = []\n",
    "    for b in range(int(len(message)/64)):\n",
    "        message_blocks.append([littleendian(message[64*b + 4*i : 4*i + 4 + 64*b]) for i in range(16)])\n",
    "    return message_blocks"
   ]
  },
  {
   "cell_type": "markdown",
   "id": "6eed8ca9",
   "metadata": {},
   "source": [
    "\n",
    "Każda runda to wykonanie operacji quarter_round() na kolumnach i wierszach.\n",
    "\n",
    "Warto zwrócić uwagę, że Runda Kolumn jest ekwiwalentem ponownego wykonania Rundy Rzędów na macierzy transponowanej."
   ]
  },
  {
   "cell_type": "code",
   "execution_count": 6,
   "id": "30f1ca8f",
   "metadata": {},
   "outputs": [
    {
     "name": "stdout",
     "output_type": "stream",
     "text": [
      "['00001000000000001000000101000101', '00000000000000000000000010000000', '00000000000000010000001000000000', '00100000010100000000000000000000', '00100000000100000000000000000001', '00000000000001001000000001000100', '00000000000000000000000010000000', '00000000000000010000000000000000', '00000000000000000000000000000001', '00000000000000000010000000000000', '10000000000001000000000000000000', '00000000000000000000000000000000', '00000000000000000000000000000001', '00000000000000000000001000000000', '00000000010000000010000000000000', '10001000000000000000000100000000']\n",
      "['00010000000010010000001010001000', '00000000000000000000000000000000', '00000000000000000000000000000000', '00000000000000000000000000000000', '00000000000000000000000100000001', '00000000000000000000000000000000', '00000000000000000000000000000000', '00000000000000000000000000000000', '00000000000000100000010000000001', '00000000000000000000000000000000', '00000000000000000000000000000000', '00000000000000000000000000000000', '01000000101000000100000000000001', '00000000000000000000000000000000', '00000000000000000000000000000000', '00000000000000000000000000000000']\n"
     ]
    }
   ],
   "source": [
    "from copy import deepcopy\n",
    "\n",
    "# Funkcja \"Rundy Rzędów\"\n",
    "# jako wejście przyjmuje 16-blokową sekwencję\n",
    "def row_round(y):\n",
    "    y = list(y)\n",
    "    # odpowiedź również będzie 16-blokową sekwencją\n",
    "    z = deepcopy(y)\n",
    "    z[0],   z[1],   z[2],   z[3]    =   quarter_round(y[0],  y[1],  y[2],  y[3])\n",
    "    z[5],   z[6],   z[7],   z[4]    =   quarter_round(y[5],  y[6],  y[7],  y[4])\n",
    "    z[10],  z[11],  z[8],   z[9]    =   quarter_round(y[10], y[11], y[8],  y[9])\n",
    "    z[15],  z[12],  z[13],  z[14]   =   quarter_round(y[15], y[12], y[13], y[14])\n",
    "    return z\n",
    "\n",
    "ty = [\n",
    "    \"00000000000000000000000000000001\", \"00000000000000000000000000000000\",\n",
    "    \"00000000000000000000000000000000\", \"00000000000000000000000000000000\",\n",
    "    \"00000000000000000000000000000001\", \"00000000000000000000000000000000\",\n",
    "    \"00000000000000000000000000000000\", \"00000000000000000000000000000000\",\n",
    "    \"00000000000000000000000000000001\", \"00000000000000000000000000000000\",\n",
    "    \"00000000000000000000000000000000\", \"00000000000000000000000000000000\",\n",
    "    \"00000000000000000000000000000001\", \"00000000000000000000000000000000\",\n",
    "    \"00000000000000000000000000000000\", \"00000000000000000000000000000000\",\n",
    "    ]\n",
    "\n",
    "print(row_round(ty))\n",
    "# oczekiwany wynik:\n",
    "# [ '00001000000000001000000101000101', '00000000000000000000000010000000',\n",
    "#   '00000000000000010000001000000000', '00100000010100000000000000000000',\n",
    "#   '00100000000100000000000000000001', '00000000000001001000000001000100',\n",
    "#   '00000000000000000000000010000000', '00000000000000010000000000000000',\n",
    "#   '00000000000000000000000000000001', '00000000000000000010000000000000',\n",
    "#   '10000000000001000000000000000000', '00000000000000000000000000000000',\n",
    "#   '00000000000000000000000000000001', '00000000000000000000001000000000',\n",
    "#   '00000000010000000010000000000000', '10001000000000000000000100000000']\n",
    "\n",
    "# Funkcja \"Rundy Kolumn\"\n",
    "# jako wejście przyjmuje 16-blokową sekwencję\n",
    "def col_round(x):\n",
    "    x = list(x)\n",
    "    # odpowiedź również będzie 16-blokową sekwencją\n",
    "    y = deepcopy(x)\n",
    "    y[0],   y[4],   y[8],   y[12]   =   quarter_round(x[0],  x[4],  x[8],  x[12])\n",
    "    y[5],   y[9],   y[13],  y[1]    =   quarter_round(x[5],  x[9],  x[13], x[1])\n",
    "    y[10],  y[14],  y[2],   y[6]    =   quarter_round(x[10], x[14], x[2],  x[6])\n",
    "    y[15],  y[3],   y[7],   y[11]   =   quarter_round(x[15], x[3],  x[7],  x[11])\n",
    "    return y\n",
    "\n",
    "tx = [\n",
    "    \"00000000000000000000000000000001\", \"00000000000000000000000000000000\",\n",
    "    \"00000000000000000000000000000000\", \"00000000000000000000000000000000\",\n",
    "    \"00000000000000000000000000000001\", \"00000000000000000000000000000000\",\n",
    "    \"00000000000000000000000000000000\", \"00000000000000000000000000000000\",\n",
    "    \"00000000000000000000000000000001\", \"00000000000000000000000000000000\",\n",
    "    \"00000000000000000000000000000000\", \"00000000000000000000000000000000\",\n",
    "    \"00000000000000000000000000000001\", \"00000000000000000000000000000000\",\n",
    "    \"00000000000000000000000000000000\", \"00000000000000000000000000000000\",\n",
    "    ]\n",
    "\n",
    "print(col_round(tx))\n",
    "# oczekiwany wynik:\n",
    "# [ '00010000000010010000001010001000', '00000000000000000000000000000000',\n",
    "#   '00000000000000000000000000000000', '00000000000000000000000000000000',\n",
    "#   '00000000000000000000000100000001', '00000000000000000000000000000000',\n",
    "#   '00000000000000000000000000000000', '00000000000000000000000000000000',\n",
    "#   '00000000000000100000010000000001', '00000000000000000000000000000000',\n",
    "#   '00000000000000000000000000000000', '00000000000000000000000000000000',\n",
    "#   '01000000101000000100000000000001', '00000000000000000000000000000000',\n",
    "#   '00000000000000000000000000000000', '00000000000000000000000000000000']"
   ]
  },
  {
   "cell_type": "markdown",
   "id": "6beea891",
   "metadata": {},
   "source": [
    "Teraz możemy powyższe funkcje złożyć w pełną rundę"
   ]
  },
  {
   "cell_type": "code",
   "execution_count": 7,
   "id": "0d450000",
   "metadata": {},
   "outputs": [
    {
     "name": "stdout",
     "output_type": "stream",
     "text": [
      "['10000001100001101010001000101101', '00000000010000001010001010000100', '10000010010001111001001000010000', '00000110100100101001000001010001', '00001000000000000000000010010000', '00000010010000000010001000000000', '00000000000000000100000000000000', '00000000100000000000000000000000', '00000000000000010000001000000000', '00100000010000000000000000000000', '00001000000000001000000100000100', '00000000000000000000000000000000', '00100000010100000000000000000000', '10100000000000000000000001000000', '00000000000010000001100000001010', '01100001001010101000000000100000']\n"
     ]
    }
   ],
   "source": [
    "# Funkcja Rundy\n",
    "def double_round(x):\n",
    "    # przygotowanie naszych zmiennych pomocniczych\n",
    "    y = deepcopy(x)\n",
    "    z = deepcopy(x)\n",
    "\n",
    "    # pełna funkcja rundy to nic innego jak wykonanie funkcji kolumnowej,\n",
    "    # a następnie rzędowej na tej samej tablicy słów\n",
    "    y = col_round(x)\n",
    "    z = row_round(y)\n",
    "\n",
    "    return z\n",
    "\n",
    "tx = [\n",
    "    \"00000000000000000000000000000001\", \"00000000000000000000000000000000\",\n",
    "    \"00000000000000000000000000000000\", \"00000000000000000000000000000000\",\n",
    "    \"00000000000000000000000000000000\", \"00000000000000000000000000000000\",\n",
    "    \"00000000000000000000000000000000\", \"00000000000000000000000000000000\",\n",
    "    \"00000000000000000000000000000000\", \"00000000000000000000000000000000\",\n",
    "    \"00000000000000000000000000000000\", \"00000000000000000000000000000000\",\n",
    "    \"00000000000000000000000000000000\", \"00000000000000000000000000000000\",\n",
    "    \"00000000000000000000000000000000\", \"00000000000000000000000000000000\",\n",
    "    ]\n",
    "\n",
    "print(double_round(tx))\n",
    "# oczekiwany wynik:\n",
    "# [ '10000001100001101010001000101101', '00000000010000001010001010000100',\n",
    "#   '10000010010001111001001000010000', '00000110100100101001000001010001',\n",
    "#   '00001000000000000000000010010000', '00000010010000000010001000000000',\n",
    "#   '00000000000000000100000000000000', '00000000100000000000000000000000',\n",
    "#   '00000000000000010000001000000000', '00100000010000000000000000000000',\n",
    "#   '00001000000000001000000100000100', '00000000000000000000000000000000',\n",
    "#   '00100000010100000000000000000000', '10100000000000000000000001000000',\n",
    "#   '00000000000010000001100000001010', '01100001001010101000000000100000']"
   ]
  },
  {
   "cell_type": "markdown",
   "id": "80c0f47d",
   "metadata": {},
   "source": [
    "Teraz jeszcze potrzeba nam tylko kilku pomocniczych funkcji:\n",
    "1. into_int_array() - zamienia słowo na listę kodów ASCII\n",
    "1. get_bin() - zamienia liczbę całkowitą na jej reprezentacje binarną odpowiedniej długości\n",
    "1. little_endian_bstr() - zamienia listę liczb całkowitych na binarne liczby w modelu little endian\n",
    "1. le_to_be() - zamienia liczby binarne zapisane w little endian na big endian"
   ]
  },
  {
   "cell_type": "code",
   "execution_count": 32,
   "id": "c585dfe7",
   "metadata": {},
   "outputs": [
    {
     "name": "stdout",
     "output_type": "stream",
     "text": [
      "['ToJe', 'stBa', 'rdzo', 'Dlug', 'iTek', 'stMa', 'jacy', 'Miec', '64Zn', 'akiA', 'leTo', 'Dosc', 'Trud', 'noOs', 'iaga', 'lnex']\n",
      "[84, 111, 74, 101]\n",
      "0111\n",
      "01100101010010100110111101010100\n",
      "01010100011011110100101001100101\n"
     ]
    }
   ],
   "source": [
    "from textwrap import wrap\n",
    "\n",
    "def split_to_16_32bit_words(message):\n",
    "    return wrap(f'{message:x<64}', 4)[:16]\n",
    "\n",
    "split = split_to_16_32bit_words(\"ToJestBardzoDlugiTekstMajacyMiec64ZnakiAleToDoscTrudnoOsiagalne\")\n",
    "print(split)\n",
    "# oczekiwany wynik:\n",
    "# [ 'ToJe', 'stBa', 'rdzo', 'Dlug',\n",
    "#   'iTek', 'stMa', 'jacy', 'Miec',\n",
    "#   '64Zn', 'akiA', 'leTo', 'Dosc',\n",
    "#   'Trud', 'noOs', 'iaga', 'lnex']\n",
    "\n",
    "def into_int_array(message):\n",
    "    return list(map(ord, message))\n",
    "\n",
    "print(into_int_array(split[0]))\n",
    "# oczekiwany wynik:\n",
    "# [84, 111, 74, 101]\n",
    "\n",
    "def get_bin(num, blen):\n",
    "    return format(num, 'b').zfill(blen)\n",
    "\n",
    "print(get_bin(7, 4))\n",
    "# oczekiwany wynik:\n",
    "# \"0111\"\n",
    "\n",
    "def little_endian_bstr(int_list):\n",
    "    bin_str = \"\"\n",
    "    for x in int_list: \n",
    "        bin_str = get_bin(x, 8) + bin_str\n",
    "    return bin_str\n",
    "\n",
    "print(little_endian_bstr([84, 111, 74, 101]))\n",
    "# oczekiwany wynik:\n",
    "# \"01100101010010100110111101010100\"\n",
    "\n",
    "def le_to_be(bstr):\n",
    "    wrapped = wrap(bstr, 8)\n",
    "    wrapped.reverse()\n",
    "    return \"\".join(wrapped)\n",
    "\n",
    "print(le_to_be(\"01100101010010100110111101010100\"))\n",
    "# oczekiwany wynik:\n",
    "# \"01010100011011110100101001100101\""
   ]
  },
  {
   "cell_type": "markdown",
   "id": "fc5963de",
   "metadata": {},
   "source": [
    "Pełna implementacja funkcji hashującej Salsa20/8 (funkcja hashująca Salsa20 o zredukowanej do 8 liczbie rund):"
   ]
  },
  {
   "cell_type": "code",
   "execution_count": 39,
   "id": "5bb52808",
   "metadata": {},
   "outputs": [
    {
     "name": "stdout",
     "output_type": "stream",
     "text": [
      "['10101000110111101001010011001010', '11100110111010001000010011000010', '11100100110010001111010011011110', '10001000110110001110101011001110', '11010010101010001100101011010110', '11100110111010001001101011000010', '11010100110000101100011011110010', '10011010110100101100101011000110', '01101100011010001011010011011100', '11000010110101101101001010000010', '11011000110010101010100011011110', '10001000110111101110011011000110', '10101000111001001110101011001000', '11011100110111101001111011100110', '11010010110000101100111011000010', '11011000110111001100101011110000']\n"
     ]
    }
   ],
   "source": [
    "# Funkcja Haszująca Salsa20\n",
    "# x to sekwencja 64 bajtów (np. 64 litery)\n",
    "def salsa20_hash(x):\n",
    "    # zamieniamy nasze dane wejściowe na 16 4 bajtowych słów\n",
    "    x = split_to_16_32bit_words(x)\n",
    "    x = list(map(into_int_array, x))\n",
    "    x = list(map(little_endian_bstr, x))\n",
    "\n",
    "    # Pierwsza runda\n",
    "    z = list(map(double_round, x))\n",
    "    # Pozostałe 7 rund naszej skróconej funkcji Salsa20/8\n",
    "    for i in range(7):\n",
    "        z = list(map(double_round, z))\n",
    "\n",
    "    xhash = []\n",
    "    # na koniec, do oryginalnych danych dodajemy hash,\n",
    "    # a następnie zamieniamy wynik na big endian\n",
    "    for elem1, elem2 in zip(z, x):\n",
    "        xhash.append(le_to_be(bin_add(elem1, elem2)))\n",
    "    \n",
    "    # x to również sekwencja 64 bajtów, na nasze potrzeby 16 4 bajtowych grup\n",
    "    return xhash\n",
    "\n",
    "\n",
    "test_str = \"ToJestBardzoDlugiTekstMajacyMiec64ZnakiAleToDoscTrudnoOsiagalne\"\n",
    "s20h = salsa20_hash(test_str)\n",
    "print(s20h)\n",
    "# oczekiwany wynik:\n",
    "# [ '10101000110111101001010011001010', '11100110111010001000010011000010',\n",
    "#   '11100100110010001111010011011110', '10001000110110001110101011001110',\n",
    "#   '11010010101010001100101011010110', '11100110111010001001101011000010',\n",
    "#   '11010100110000101100011011110010', '10011010110100101100101011000110',\n",
    "#   '01101100011010001011010011011100', '11000010110101101101001010000010',\n",
    "#   '11011000110010101010100011011110', '10001000110111101110011011000110',\n",
    "#   '10101000111001001110101011001000', '11011100110111101001111011100110',\n",
    "#   '11010010110000101100111011000010', '11011000110111001100101011110000']"
   ]
  },
  {
   "cell_type": "markdown",
   "id": "bccf0868",
   "metadata": {},
   "source": [
    "### Algorytm scryptBlockMix\n",
    "Scrypt wykorzystuje `scryptBlockMix` jako funkcję haszującą.\n",
    "Reprezentacja algorytmu:\n",
    "<!-- Tłumaczenie? -->\n",
    "```bash\n",
    "Parameters:\n",
    "  r       Block size parameter.\n",
    "\n",
    "  Input:\n",
    "      B[0] || B[1] || ... || B[2 * r - 1]\n",
    "          Input octet string (of size 128 * r octets),\n",
    "          treated as 2 * r 64-octet blocks,\n",
    "          where each element in B is a 64-octet block.\n",
    "\n",
    "  Output:\n",
    "      B\\'[0] || B\\'[1] || ... || B\\'[2 * r - 1]\n",
    "        Output octet string.\n",
    "\n",
    "  Steps:\n",
    "\n",
    "    1. X = B[2 * r - 1]\n",
    "\n",
    "    2. for i = 0 to 2 * r - 1 do\n",
    "        T = X xor B[i]\n",
    "        X = Salsa (T)\n",
    "        Y[i] = X\n",
    "      end for\n",
    "\n",
    "    3. B\\' = (Y[0], Y[2], ..., Y[2 * r - 2], Y[1],\n",
    "              Y[3], ..., Y[2 * r - 1])\n",
    "```"
   ]
  },
  {
   "cell_type": "markdown",
   "id": "cac3a7fa",
   "metadata": {},
   "source": [
    "### Algorytm scryptROMix\n",
    "\n",
    "Algorytm sROMix wykorzystuje scryptBlockMix jako funkcję haszującą `H` oraz funkcję `Integerify` (dosłowne tłumaczenie - ???)\n",
    "<!-- Again tłumaczenie ? -->\n",
    "Reprezentacja algorytmu:  \n",
    "```bash\n",
    "Input:\n",
    "        r       Block size parameter.\n",
    "        B       Input octet vector of length 128 * r octets.\n",
    "        N       CPU/Memory cost parameter, must be larger than 1,\n",
    "                a power of 2, and less than 2^(128 * r / 8).\n",
    "\n",
    "Output:\n",
    "        B\\'      Output octet vector of length 128 * r octets.\n",
    "\n",
    "Steps:\n",
    "\n",
    "    1. X = B\n",
    "\n",
    "    2. for i = 0 to N - 1 do\n",
    "        V[i] = X\n",
    "        X = scryptBlockMix (X)\n",
    "    end for\n",
    "\n",
    "    3. for i = 0 to N - 1 do\n",
    "        j = Integerify (X) mod N\n",
    "                where Integerify (B[0] ... B[2 * r - 1]) is defined\n",
    "                as the result of interpreting B[2 * r - 1] as a\n",
    "                little-endian integer.\n",
    "        T = X xor V[j]\n",
    "        X = scryptBlockMix (T)\n",
    "    end for\n",
    "\n",
    "    4. B\\' = X\n",
    "```\n"
   ]
  },
  {
   "cell_type": "markdown",
   "id": "d9e7751c",
   "metadata": {},
   "source": [
    "\n",
    "### Scrypt\n",
    "Wracając do początku sekcji - algorytm można przedstawić w 3 krokach.\n",
    "Zapis `PBKDF2-HMAC-SHA-256` oznacza, że używamy algorytmu `PBKDF2` (Password-Based Key Derivation Function - Opartej na haśle Funkcji Wyprowadzania Klucza) z `HMAC-SHA-256` jako `PRF` (Pseudorandom Function - Funkcja Pseudolosowa).\n",
    "\n",
    "**Algorytm `scrypt`:**  \n",
    "\n",
    "Dane wejściowe:\n",
    "```\n",
    "        P       Passphrase, an octet string.\n",
    "        S       Salt, an octet string.\n",
    "        N       CPU/Memory cost parameter, must be larger than 1,\n",
    "                a power of 2, and less than 2^(128 * r / 8).\n",
    "        r       Block size parameter.\n",
    "        p       Parallelization parameter, a positive integer\n",
    "                less than or equal to ((2^32-1) * hLen) / MFLen\n",
    "                where hLen is 32 and MFlen is 128 * r.\n",
    "        dkLen   Intended output length in octets of the derived\n",
    "                key; a positive integer less than or equal to\n",
    "                (2^32 - 1) * hLen where hLen is 32.\n",
    "```\n",
    "\n",
    "Wyjście:\n",
    "```\n",
    "        DK      Derived key, of length dkLen octets.\n",
    "```\n",
    "\n",
    "Kroki:\n",
    "```\n",
    "1.  Initialize an array B consisting of p blocks of 128 * r octets\n",
    "        each:\n",
    "            B[0] || B[1] || ... || B[p - 1] = PBKDF2-HMAC-SHA256 (P, S, 1, p * 128 * r)\n",
    "\n",
    "2.  for i = 0 to p - 1 do\n",
    "        B[i] = scryptROMix (r, B[i], N)\n",
    "    end for\n",
    "\n",
    "3.  DK = PBKDF2-HMAC-SHA256 (P, B[0] || B[1] || ... || B[p - 1], 1, dkLen)\n",
    "```"
   ]
  },
  {
   "cell_type": "markdown",
   "id": "24d43171",
   "metadata": {},
   "source": [
    "#TODO Omówienie algorytmu? W którym miejscu wykazuje on własność Memmory Hardness."
   ]
  },
  {
   "cell_type": "markdown",
   "id": "120b1e4e",
   "metadata": {},
   "source": [
    "### Atak kanałem bocznym na `scrypt`\n",
    "\n",
    "`scrypt` jest wrażliwy na `Atak Czasowy na Cache`.\n",
    "\n",
    "`Atak czasowy na Cache` - ten typ ataku polega na pozyskiwaniu informacji przez badanie dostępności lub niedostępności danych w cache procesora.\n",
    "Jedną z metod przeprowadzenia tego ataku jest metoda Yuval'a Yarom'a `PRIME+PROBE` i jest najlepszą metodą, której można użyć przeciwko scryptowi.\n",
    "\n",
    "`PRIME+PROBE` (dosł. Zastaw i Sonduj) - Metoda Ataku polegająca na celowym wypchnięciu danych ofiary z cache procesora (Zastaw) przez uzyskanie dostępu do danych, które atakujący wie, że spowodują wypchnięcie z cache danych ofiary. Następnie, atakujący czeka pewien czas dając ofierze uzyskać dostęp do swoich danych, po czym próbuje uzyskać dostęp do swoich danych (Sonduj). Jeżeli czas dostępu jest relatywnie krótki, to oznacza, że ofiara nie uzyskiwała dostępu do swoich danych, bo dane atakującego wciaż są dostępne w cache. Jeżeli czas dostępu jest dłuższy, oznacza to, że ofiara użyskała dostęp do badanych danych, ponieważ dane atakującego zostały zepchnięte do pamięci niższego poziomu.\n",
    "Atak ten może zostać zastosowany w dowolnym momencie kiedy atakujący współdzieli z ofiarą jakiś poziom cache procesora. To może się zdarzyć kiedy atakujący i ofiara są procesami na tej samej maszynie, ale również kiedy atakujący i ofiara pracują na różnych maszynach wirtualnych, hostowanych na jednej maszynie fizycznej. Wystarczy współdzielenie przez nich cache procesora.\n",
    "\n",
    "---\n",
    "\n",
    "**Procedura ataku na `scrypt`:**  \n",
    "To co sprawia, że `Atak Czasowy na Cache` jest możliwy to podany poniżej kod funkcji `scryptROMix`:\n",
    "```\n",
    "    j = Integerify (X) mod N\n",
    "    T = X xor V[j]\n",
    "    X = scryptBlockMix (T)\n",
    "```\n",
    "\n",
    "\\# Najpierw ogarnę memory hardness, bo coś mi się tu nie kalkuluje XDDD"
   ]
  },
  {
   "cell_type": "markdown",
   "id": "3f70259a",
   "metadata": {},
   "source": [
    "# Czym jest `yescrypt`?\n",
    "\n",
    "`Yescrypt` jest funkcją wyprowadzania klucza opartą na haśle. Został stworzony na bazie `scrypt`.  \n",
    "Yescrypt jest domyślną funkcją haszującą dla systemów Debian 11, Fedora 35+, Kali Linux 2021.1+ oraz Ubuntu 20.04+.\n",
    "\n",
    "Zdaje się on być najlepiej skalującym algorytmem do haszowania. Oferuje prawie optymalne bezpieczeństwo ataków bruteforce kosztem złożoności.  \n",
    "Warto mieć na uwadze, że w przypadku dużych implementacji będzie to stosunkowo mała część całkowitej autoryzacji. \n",
    "\n",
    "| Zalety | Wady |\n",
    "| --- | --- |\n",
    "| Lepsza ochrona przed atakami | Złożoność |\n",
    "| Oparte na zaakceptowanych przez NIST funkcjach haszujących (HMAC, PBKDF2, SHA-256)| Podatne na atak kanałem bocznym (Cache-timing)|\n",
    "| Czas działania można regulować w zależności od wykorzystania pamięci | Wspierany w mniejszej ilości technologi |\n",
    "\n",
    "Yescrypt nie wygrał w [PHC](https://en.wikipedia.org/wiki/Password_Hashing_Competition). Zwycięzcą w 2015 roku został `Argon2`. \n",
    "Mimo to yescrypt dostał specjalne wyróżnienie (razem z `Catena`, `Lyra2`, `Makwa`).\n",
    "\n",
    "Istnieje też `yespower`, który jest PoW (proof of work) zbudowanym na scrypcie. Zamiast wyprowadzać klucze i haszować hasła yespower jest przeznaczony do przetwarzania nagłówków bloków w `blockchain` (włączając wartość nounce).\n"
   ]
  },
  {
   "cell_type": "markdown",
   "id": "90bb010f",
   "metadata": {},
   "source": [
    "# `Balloon Hashing`\n",
    "\n",
    "\n",
    "\n",
    "Kolejna odnoga funkcji KDF. Autorzy zapewniają, że:\n",
    "1. Algorytm wykazuje właściwości `memory-hardness`. \n",
    "1. Jest bazowany na podstawowych funkcjach (SHA-512 ...). Zatem może być używany w dowolnym standardzie.\n",
    "1. Odporny na ataki kanłem bocznym (side-channel attacks). Dostęp do pamięci jest niezależny od danych, które są haszowane.\n",
    "1. Łatwy w implementacji a złożoność obliczeniowa jest podobna do innych algorytmów tego sortu.\n"
   ]
  },
  {
   "cell_type": "markdown",
   "id": "f7929e98",
   "metadata": {},
   "source": [
    "# Podsumowanie\n",
    "\n",
    "|Własność|scrypt|yescrypt|baloon hashing|\n",
    "|---|---|---|---|\n",
    "|Memory-Hardness|Tak|Tak|Tak|\n",
    "|Bazowana na 'Standard Primitives' (np. SHA-512 itd.)|Tak|Tak|Tak|\n",
    "|Odporność na ataki Cache (kanałem bocznym)|Nie<sup>1</sup>|Nie|Tak|\n",
    "|Złożoność|Ω(n<sup>2</sup>ω)||Ω(n<sup>2</sup>/log n)<sup>2</sup>|\n",
    "\n",
    "\n",
    "<sup>1</sup>Zostało udowodnione, że funkcja ROMix jest sekwencyjnie odporna dla wyroczni losowej. Bezpieczeństwo scryptu opiera się na założeniu, że BlockMix() wykorzystujący Salsa20/8 nie wykazuje, żadnych \"skrótów\" które pozwoliłyby iterować łatwiej niż w wyroczni losowej.  \n",
    "<sup>2</sup>W ustawieniu równoległym Ω(n<sup>2</sup>). Dla rundy (odpowiednie warunki)  Ω(n<sup>5/3</sup>)<sup>2</sup>. Funkcja wykazująca własność memory-hard Ω(n<sup>2</sup>/log n).  \n",
    "\n",
    "\n",
    "### Wnioski\n",
    "1. Warto używać yescrypta gdy chcemy bronić się przed atakami równoległymi ale dostęp do pamięci będzie zależny od hasła. Jest to słabe podejście jeśli adwersach może mieć dostęp do takiej informacji.  \n",
    "1. Baloon Hashin jest przydatny w obronie przed atakami sekwencyjnymi. Jest dostęp do pamięci jest niezależny od hasła. Jest asymptotycznie słabszy przy dużych atakach równoległych.\n",
    "[Źródło](https://eprint.iacr.org/2016/027.pdf)"
   ]
  }
 ],
 "metadata": {
  "interpreter": {
   "hash": "ac59ebe37160ed0dfa835113d9b8498d9f09ceb179beaac4002f036b9467c963"
  },
  "kernelspec": {
   "display_name": "Python 3 (ipykernel)",
   "language": "python",
   "name": "python3"
  },
  "language_info": {
   "codemirror_mode": {
    "name": "ipython",
    "version": 3
   },
   "file_extension": ".py",
   "mimetype": "text/x-python",
   "name": "python",
   "nbconvert_exporter": "python",
   "pygments_lexer": "ipython3",
   "version": "3.9.6"
  }
 },
 "nbformat": 4,
 "nbformat_minor": 5
}
